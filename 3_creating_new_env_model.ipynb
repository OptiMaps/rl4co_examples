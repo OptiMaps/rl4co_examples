{
  "nbformat": 4,
  "nbformat_minor": 0,
  "metadata": {
    "colab": {
      "provenance": [],
      "gpuType": "T4"
    },
    "kernelspec": {
      "name": "python3",
      "display_name": "Python 3"
    },
    "language_info": {
      "name": "python"
    },
    "accelerator": "GPU",
    "widgets": {
      "application/vnd.jupyter.widget-state+json": {
        "96f354c658bf4168a32a30725af99846": {
          "model_module": "@jupyter-widgets/controls",
          "model_name": "VBoxModel",
          "model_module_version": "1.5.0",
          "state": {
            "_dom_classes": [],
            "_model_module": "@jupyter-widgets/controls",
            "_model_module_version": "1.5.0",
            "_model_name": "VBoxModel",
            "_view_count": null,
            "_view_module": "@jupyter-widgets/controls",
            "_view_module_version": "1.5.0",
            "_view_name": "VBoxView",
            "box_style": "",
            "children": [
              "IPY_MODEL_b61635a644d44f76a3621cee139f38b8",
              "IPY_MODEL_bcece65f0f954cc799977a6dc92203e3"
            ],
            "layout": "IPY_MODEL_ae8f157008f941d68e1d72f2a653be18"
          }
        },
        "b61635a644d44f76a3621cee139f38b8": {
          "model_module": "@jupyter-widgets/controls",
          "model_name": "LabelModel",
          "model_module_version": "1.5.0",
          "state": {
            "_dom_classes": [],
            "_model_module": "@jupyter-widgets/controls",
            "_model_module_version": "1.5.0",
            "_model_name": "LabelModel",
            "_view_count": null,
            "_view_module": "@jupyter-widgets/controls",
            "_view_module_version": "1.5.0",
            "_view_name": "LabelView",
            "description": "",
            "description_tooltip": null,
            "layout": "IPY_MODEL_cc137c7f2b6e4403a7e712faae123a6b",
            "placeholder": "​",
            "style": "IPY_MODEL_79b8580f061040b9bbfe3c4a9216fd71",
            "value": "0.011 MB of 0.011 MB uploaded\r"
          }
        },
        "bcece65f0f954cc799977a6dc92203e3": {
          "model_module": "@jupyter-widgets/controls",
          "model_name": "FloatProgressModel",
          "model_module_version": "1.5.0",
          "state": {
            "_dom_classes": [],
            "_model_module": "@jupyter-widgets/controls",
            "_model_module_version": "1.5.0",
            "_model_name": "FloatProgressModel",
            "_view_count": null,
            "_view_module": "@jupyter-widgets/controls",
            "_view_module_version": "1.5.0",
            "_view_name": "ProgressView",
            "bar_style": "",
            "description": "",
            "description_tooltip": null,
            "layout": "IPY_MODEL_5ccf9fa575184024899c75e4390aeaa4",
            "max": 1,
            "min": 0,
            "orientation": "horizontal",
            "style": "IPY_MODEL_2f809da230584d9d8b4b6853185c9ab6",
            "value": 1
          }
        },
        "ae8f157008f941d68e1d72f2a653be18": {
          "model_module": "@jupyter-widgets/base",
          "model_name": "LayoutModel",
          "model_module_version": "1.2.0",
          "state": {
            "_model_module": "@jupyter-widgets/base",
            "_model_module_version": "1.2.0",
            "_model_name": "LayoutModel",
            "_view_count": null,
            "_view_module": "@jupyter-widgets/base",
            "_view_module_version": "1.2.0",
            "_view_name": "LayoutView",
            "align_content": null,
            "align_items": null,
            "align_self": null,
            "border": null,
            "bottom": null,
            "display": null,
            "flex": null,
            "flex_flow": null,
            "grid_area": null,
            "grid_auto_columns": null,
            "grid_auto_flow": null,
            "grid_auto_rows": null,
            "grid_column": null,
            "grid_gap": null,
            "grid_row": null,
            "grid_template_areas": null,
            "grid_template_columns": null,
            "grid_template_rows": null,
            "height": null,
            "justify_content": null,
            "justify_items": null,
            "left": null,
            "margin": null,
            "max_height": null,
            "max_width": null,
            "min_height": null,
            "min_width": null,
            "object_fit": null,
            "object_position": null,
            "order": null,
            "overflow": null,
            "overflow_x": null,
            "overflow_y": null,
            "padding": null,
            "right": null,
            "top": null,
            "visibility": null,
            "width": null
          }
        },
        "cc137c7f2b6e4403a7e712faae123a6b": {
          "model_module": "@jupyter-widgets/base",
          "model_name": "LayoutModel",
          "model_module_version": "1.2.0",
          "state": {
            "_model_module": "@jupyter-widgets/base",
            "_model_module_version": "1.2.0",
            "_model_name": "LayoutModel",
            "_view_count": null,
            "_view_module": "@jupyter-widgets/base",
            "_view_module_version": "1.2.0",
            "_view_name": "LayoutView",
            "align_content": null,
            "align_items": null,
            "align_self": null,
            "border": null,
            "bottom": null,
            "display": null,
            "flex": null,
            "flex_flow": null,
            "grid_area": null,
            "grid_auto_columns": null,
            "grid_auto_flow": null,
            "grid_auto_rows": null,
            "grid_column": null,
            "grid_gap": null,
            "grid_row": null,
            "grid_template_areas": null,
            "grid_template_columns": null,
            "grid_template_rows": null,
            "height": null,
            "justify_content": null,
            "justify_items": null,
            "left": null,
            "margin": null,
            "max_height": null,
            "max_width": null,
            "min_height": null,
            "min_width": null,
            "object_fit": null,
            "object_position": null,
            "order": null,
            "overflow": null,
            "overflow_x": null,
            "overflow_y": null,
            "padding": null,
            "right": null,
            "top": null,
            "visibility": null,
            "width": null
          }
        },
        "79b8580f061040b9bbfe3c4a9216fd71": {
          "model_module": "@jupyter-widgets/controls",
          "model_name": "DescriptionStyleModel",
          "model_module_version": "1.5.0",
          "state": {
            "_model_module": "@jupyter-widgets/controls",
            "_model_module_version": "1.5.0",
            "_model_name": "DescriptionStyleModel",
            "_view_count": null,
            "_view_module": "@jupyter-widgets/base",
            "_view_module_version": "1.2.0",
            "_view_name": "StyleView",
            "description_width": ""
          }
        },
        "5ccf9fa575184024899c75e4390aeaa4": {
          "model_module": "@jupyter-widgets/base",
          "model_name": "LayoutModel",
          "model_module_version": "1.2.0",
          "state": {
            "_model_module": "@jupyter-widgets/base",
            "_model_module_version": "1.2.0",
            "_model_name": "LayoutModel",
            "_view_count": null,
            "_view_module": "@jupyter-widgets/base",
            "_view_module_version": "1.2.0",
            "_view_name": "LayoutView",
            "align_content": null,
            "align_items": null,
            "align_self": null,
            "border": null,
            "bottom": null,
            "display": null,
            "flex": null,
            "flex_flow": null,
            "grid_area": null,
            "grid_auto_columns": null,
            "grid_auto_flow": null,
            "grid_auto_rows": null,
            "grid_column": null,
            "grid_gap": null,
            "grid_row": null,
            "grid_template_areas": null,
            "grid_template_columns": null,
            "grid_template_rows": null,
            "height": null,
            "justify_content": null,
            "justify_items": null,
            "left": null,
            "margin": null,
            "max_height": null,
            "max_width": null,
            "min_height": null,
            "min_width": null,
            "object_fit": null,
            "object_position": null,
            "order": null,
            "overflow": null,
            "overflow_x": null,
            "overflow_y": null,
            "padding": null,
            "right": null,
            "top": null,
            "visibility": null,
            "width": null
          }
        },
        "2f809da230584d9d8b4b6853185c9ab6": {
          "model_module": "@jupyter-widgets/controls",
          "model_name": "ProgressStyleModel",
          "model_module_version": "1.5.0",
          "state": {
            "_model_module": "@jupyter-widgets/controls",
            "_model_module_version": "1.5.0",
            "_model_name": "ProgressStyleModel",
            "_view_count": null,
            "_view_module": "@jupyter-widgets/base",
            "_view_module_version": "1.2.0",
            "_view_name": "StyleView",
            "bar_color": null,
            "description_width": ""
          }
        },
        "c92a20e538a94d9f9a5491f785ac07b1": {
          "model_module": "@jupyter-widgets/controls",
          "model_name": "HBoxModel",
          "model_module_version": "1.5.0",
          "state": {
            "_dom_classes": [],
            "_model_module": "@jupyter-widgets/controls",
            "_model_module_version": "1.5.0",
            "_model_name": "HBoxModel",
            "_view_count": null,
            "_view_module": "@jupyter-widgets/controls",
            "_view_module_version": "1.5.0",
            "_view_name": "HBoxView",
            "box_style": "",
            "children": [
              "IPY_MODEL_a34d06427fc149bf92e0d1db046569ec",
              "IPY_MODEL_187a18fc086846beaa45869d6bfc1c90",
              "IPY_MODEL_b888029a361945b1bb2d21223f95f5bb"
            ],
            "layout": "IPY_MODEL_a3efca1906534ee495f86702966f04f5"
          }
        },
        "a34d06427fc149bf92e0d1db046569ec": {
          "model_module": "@jupyter-widgets/controls",
          "model_name": "HTMLModel",
          "model_module_version": "1.5.0",
          "state": {
            "_dom_classes": [],
            "_model_module": "@jupyter-widgets/controls",
            "_model_module_version": "1.5.0",
            "_model_name": "HTMLModel",
            "_view_count": null,
            "_view_module": "@jupyter-widgets/controls",
            "_view_module_version": "1.5.0",
            "_view_name": "HTMLView",
            "description": "",
            "description_tooltip": null,
            "layout": "IPY_MODEL_09b4c30a0f3b4ea0b68ab212c169bcf7",
            "placeholder": "​",
            "style": "IPY_MODEL_2894bca28544457c98ec088310102b6e",
            "value": "Sanity Checking DataLoader 0: 100%"
          }
        },
        "187a18fc086846beaa45869d6bfc1c90": {
          "model_module": "@jupyter-widgets/controls",
          "model_name": "FloatProgressModel",
          "model_module_version": "1.5.0",
          "state": {
            "_dom_classes": [],
            "_model_module": "@jupyter-widgets/controls",
            "_model_module_version": "1.5.0",
            "_model_name": "FloatProgressModel",
            "_view_count": null,
            "_view_module": "@jupyter-widgets/controls",
            "_view_module_version": "1.5.0",
            "_view_name": "ProgressView",
            "bar_style": "",
            "description": "",
            "description_tooltip": null,
            "layout": "IPY_MODEL_f31c17dfb07441cd93546ebaef1dad76",
            "max": 2,
            "min": 0,
            "orientation": "horizontal",
            "style": "IPY_MODEL_a82490b5a477435b88885c6080d03e0f",
            "value": 2
          }
        },
        "b888029a361945b1bb2d21223f95f5bb": {
          "model_module": "@jupyter-widgets/controls",
          "model_name": "HTMLModel",
          "model_module_version": "1.5.0",
          "state": {
            "_dom_classes": [],
            "_model_module": "@jupyter-widgets/controls",
            "_model_module_version": "1.5.0",
            "_model_name": "HTMLModel",
            "_view_count": null,
            "_view_module": "@jupyter-widgets/controls",
            "_view_module_version": "1.5.0",
            "_view_name": "HTMLView",
            "description": "",
            "description_tooltip": null,
            "layout": "IPY_MODEL_324ca52556ff4fe282b762129577dd12",
            "placeholder": "​",
            "style": "IPY_MODEL_694703f85380447cbabb072ace1f01b2",
            "value": " 2/2 [00:00&lt;00:00,  7.52it/s]"
          }
        },
        "a3efca1906534ee495f86702966f04f5": {
          "model_module": "@jupyter-widgets/base",
          "model_name": "LayoutModel",
          "model_module_version": "1.2.0",
          "state": {
            "_model_module": "@jupyter-widgets/base",
            "_model_module_version": "1.2.0",
            "_model_name": "LayoutModel",
            "_view_count": null,
            "_view_module": "@jupyter-widgets/base",
            "_view_module_version": "1.2.0",
            "_view_name": "LayoutView",
            "align_content": null,
            "align_items": null,
            "align_self": null,
            "border": null,
            "bottom": null,
            "display": "inline-flex",
            "flex": null,
            "flex_flow": "row wrap",
            "grid_area": null,
            "grid_auto_columns": null,
            "grid_auto_flow": null,
            "grid_auto_rows": null,
            "grid_column": null,
            "grid_gap": null,
            "grid_row": null,
            "grid_template_areas": null,
            "grid_template_columns": null,
            "grid_template_rows": null,
            "height": null,
            "justify_content": null,
            "justify_items": null,
            "left": null,
            "margin": null,
            "max_height": null,
            "max_width": null,
            "min_height": null,
            "min_width": null,
            "object_fit": null,
            "object_position": null,
            "order": null,
            "overflow": null,
            "overflow_x": null,
            "overflow_y": null,
            "padding": null,
            "right": null,
            "top": null,
            "visibility": "hidden",
            "width": "100%"
          }
        },
        "09b4c30a0f3b4ea0b68ab212c169bcf7": {
          "model_module": "@jupyter-widgets/base",
          "model_name": "LayoutModel",
          "model_module_version": "1.2.0",
          "state": {
            "_model_module": "@jupyter-widgets/base",
            "_model_module_version": "1.2.0",
            "_model_name": "LayoutModel",
            "_view_count": null,
            "_view_module": "@jupyter-widgets/base",
            "_view_module_version": "1.2.0",
            "_view_name": "LayoutView",
            "align_content": null,
            "align_items": null,
            "align_self": null,
            "border": null,
            "bottom": null,
            "display": null,
            "flex": null,
            "flex_flow": null,
            "grid_area": null,
            "grid_auto_columns": null,
            "grid_auto_flow": null,
            "grid_auto_rows": null,
            "grid_column": null,
            "grid_gap": null,
            "grid_row": null,
            "grid_template_areas": null,
            "grid_template_columns": null,
            "grid_template_rows": null,
            "height": null,
            "justify_content": null,
            "justify_items": null,
            "left": null,
            "margin": null,
            "max_height": null,
            "max_width": null,
            "min_height": null,
            "min_width": null,
            "object_fit": null,
            "object_position": null,
            "order": null,
            "overflow": null,
            "overflow_x": null,
            "overflow_y": null,
            "padding": null,
            "right": null,
            "top": null,
            "visibility": null,
            "width": null
          }
        },
        "2894bca28544457c98ec088310102b6e": {
          "model_module": "@jupyter-widgets/controls",
          "model_name": "DescriptionStyleModel",
          "model_module_version": "1.5.0",
          "state": {
            "_model_module": "@jupyter-widgets/controls",
            "_model_module_version": "1.5.0",
            "_model_name": "DescriptionStyleModel",
            "_view_count": null,
            "_view_module": "@jupyter-widgets/base",
            "_view_module_version": "1.2.0",
            "_view_name": "StyleView",
            "description_width": ""
          }
        },
        "f31c17dfb07441cd93546ebaef1dad76": {
          "model_module": "@jupyter-widgets/base",
          "model_name": "LayoutModel",
          "model_module_version": "1.2.0",
          "state": {
            "_model_module": "@jupyter-widgets/base",
            "_model_module_version": "1.2.0",
            "_model_name": "LayoutModel",
            "_view_count": null,
            "_view_module": "@jupyter-widgets/base",
            "_view_module_version": "1.2.0",
            "_view_name": "LayoutView",
            "align_content": null,
            "align_items": null,
            "align_self": null,
            "border": null,
            "bottom": null,
            "display": null,
            "flex": "2",
            "flex_flow": null,
            "grid_area": null,
            "grid_auto_columns": null,
            "grid_auto_flow": null,
            "grid_auto_rows": null,
            "grid_column": null,
            "grid_gap": null,
            "grid_row": null,
            "grid_template_areas": null,
            "grid_template_columns": null,
            "grid_template_rows": null,
            "height": null,
            "justify_content": null,
            "justify_items": null,
            "left": null,
            "margin": null,
            "max_height": null,
            "max_width": null,
            "min_height": null,
            "min_width": null,
            "object_fit": null,
            "object_position": null,
            "order": null,
            "overflow": null,
            "overflow_x": null,
            "overflow_y": null,
            "padding": null,
            "right": null,
            "top": null,
            "visibility": null,
            "width": null
          }
        },
        "a82490b5a477435b88885c6080d03e0f": {
          "model_module": "@jupyter-widgets/controls",
          "model_name": "ProgressStyleModel",
          "model_module_version": "1.5.0",
          "state": {
            "_model_module": "@jupyter-widgets/controls",
            "_model_module_version": "1.5.0",
            "_model_name": "ProgressStyleModel",
            "_view_count": null,
            "_view_module": "@jupyter-widgets/base",
            "_view_module_version": "1.2.0",
            "_view_name": "StyleView",
            "bar_color": null,
            "description_width": ""
          }
        },
        "324ca52556ff4fe282b762129577dd12": {
          "model_module": "@jupyter-widgets/base",
          "model_name": "LayoutModel",
          "model_module_version": "1.2.0",
          "state": {
            "_model_module": "@jupyter-widgets/base",
            "_model_module_version": "1.2.0",
            "_model_name": "LayoutModel",
            "_view_count": null,
            "_view_module": "@jupyter-widgets/base",
            "_view_module_version": "1.2.0",
            "_view_name": "LayoutView",
            "align_content": null,
            "align_items": null,
            "align_self": null,
            "border": null,
            "bottom": null,
            "display": null,
            "flex": null,
            "flex_flow": null,
            "grid_area": null,
            "grid_auto_columns": null,
            "grid_auto_flow": null,
            "grid_auto_rows": null,
            "grid_column": null,
            "grid_gap": null,
            "grid_row": null,
            "grid_template_areas": null,
            "grid_template_columns": null,
            "grid_template_rows": null,
            "height": null,
            "justify_content": null,
            "justify_items": null,
            "left": null,
            "margin": null,
            "max_height": null,
            "max_width": null,
            "min_height": null,
            "min_width": null,
            "object_fit": null,
            "object_position": null,
            "order": null,
            "overflow": null,
            "overflow_x": null,
            "overflow_y": null,
            "padding": null,
            "right": null,
            "top": null,
            "visibility": null,
            "width": null
          }
        },
        "694703f85380447cbabb072ace1f01b2": {
          "model_module": "@jupyter-widgets/controls",
          "model_name": "DescriptionStyleModel",
          "model_module_version": "1.5.0",
          "state": {
            "_model_module": "@jupyter-widgets/controls",
            "_model_module_version": "1.5.0",
            "_model_name": "DescriptionStyleModel",
            "_view_count": null,
            "_view_module": "@jupyter-widgets/base",
            "_view_module_version": "1.2.0",
            "_view_name": "StyleView",
            "description_width": ""
          }
        },
        "ad902e0fd06d4543a329c0f71f368b62": {
          "model_module": "@jupyter-widgets/controls",
          "model_name": "HBoxModel",
          "model_module_version": "1.5.0",
          "state": {
            "_dom_classes": [],
            "_model_module": "@jupyter-widgets/controls",
            "_model_module_version": "1.5.0",
            "_model_name": "HBoxModel",
            "_view_count": null,
            "_view_module": "@jupyter-widgets/controls",
            "_view_module_version": "1.5.0",
            "_view_name": "HBoxView",
            "box_style": "",
            "children": [
              "IPY_MODEL_4e42fb61668c4ab7b4aeb9a8aeb3ff5f",
              "IPY_MODEL_2557c3ccd74c40a89451d7afd802c0af",
              "IPY_MODEL_4b6bd91ee915411bbe8b0fd158742032"
            ],
            "layout": "IPY_MODEL_cc4ba60b91c54730a0742656b6d5b0bf"
          }
        },
        "4e42fb61668c4ab7b4aeb9a8aeb3ff5f": {
          "model_module": "@jupyter-widgets/controls",
          "model_name": "HTMLModel",
          "model_module_version": "1.5.0",
          "state": {
            "_dom_classes": [],
            "_model_module": "@jupyter-widgets/controls",
            "_model_module_version": "1.5.0",
            "_model_name": "HTMLModel",
            "_view_count": null,
            "_view_module": "@jupyter-widgets/controls",
            "_view_module_version": "1.5.0",
            "_view_name": "HTMLView",
            "description": "",
            "description_tooltip": null,
            "layout": "IPY_MODEL_dbac4283703a456d97240b840f450853",
            "placeholder": "​",
            "style": "IPY_MODEL_bfc02e53497a46309cf12956398b50d2",
            "value": "Epoch 2: 100%"
          }
        },
        "2557c3ccd74c40a89451d7afd802c0af": {
          "model_module": "@jupyter-widgets/controls",
          "model_name": "FloatProgressModel",
          "model_module_version": "1.5.0",
          "state": {
            "_dom_classes": [],
            "_model_module": "@jupyter-widgets/controls",
            "_model_module_version": "1.5.0",
            "_model_name": "FloatProgressModel",
            "_view_count": null,
            "_view_module": "@jupyter-widgets/controls",
            "_view_module_version": "1.5.0",
            "_view_name": "ProgressView",
            "bar_style": "success",
            "description": "",
            "description_tooltip": null,
            "layout": "IPY_MODEL_39791adee56e48d79bfff54e9a3decf5",
            "max": 196,
            "min": 0,
            "orientation": "horizontal",
            "style": "IPY_MODEL_9d1ab06b97614641b1c64391644701c8",
            "value": 196
          }
        },
        "4b6bd91ee915411bbe8b0fd158742032": {
          "model_module": "@jupyter-widgets/controls",
          "model_name": "HTMLModel",
          "model_module_version": "1.5.0",
          "state": {
            "_dom_classes": [],
            "_model_module": "@jupyter-widgets/controls",
            "_model_module_version": "1.5.0",
            "_model_name": "HTMLModel",
            "_view_count": null,
            "_view_module": "@jupyter-widgets/controls",
            "_view_module_version": "1.5.0",
            "_view_name": "HTMLView",
            "description": "",
            "description_tooltip": null,
            "layout": "IPY_MODEL_97d14f3d8f8641d9a76b88b78c1ef80a",
            "placeholder": "​",
            "style": "IPY_MODEL_438e1e6dbd0542a6a9568c4b0ac24b9f",
            "value": " 196/196 [00:17&lt;00:00, 11.49it/s, v_num=0, train/reward=-4.06, train/loss=-0.166, val/reward=-4.01]"
          }
        },
        "cc4ba60b91c54730a0742656b6d5b0bf": {
          "model_module": "@jupyter-widgets/base",
          "model_name": "LayoutModel",
          "model_module_version": "1.2.0",
          "state": {
            "_model_module": "@jupyter-widgets/base",
            "_model_module_version": "1.2.0",
            "_model_name": "LayoutModel",
            "_view_count": null,
            "_view_module": "@jupyter-widgets/base",
            "_view_module_version": "1.2.0",
            "_view_name": "LayoutView",
            "align_content": null,
            "align_items": null,
            "align_self": null,
            "border": null,
            "bottom": null,
            "display": "inline-flex",
            "flex": null,
            "flex_flow": "row wrap",
            "grid_area": null,
            "grid_auto_columns": null,
            "grid_auto_flow": null,
            "grid_auto_rows": null,
            "grid_column": null,
            "grid_gap": null,
            "grid_row": null,
            "grid_template_areas": null,
            "grid_template_columns": null,
            "grid_template_rows": null,
            "height": null,
            "justify_content": null,
            "justify_items": null,
            "left": null,
            "margin": null,
            "max_height": null,
            "max_width": null,
            "min_height": null,
            "min_width": null,
            "object_fit": null,
            "object_position": null,
            "order": null,
            "overflow": null,
            "overflow_x": null,
            "overflow_y": null,
            "padding": null,
            "right": null,
            "top": null,
            "visibility": null,
            "width": "100%"
          }
        },
        "dbac4283703a456d97240b840f450853": {
          "model_module": "@jupyter-widgets/base",
          "model_name": "LayoutModel",
          "model_module_version": "1.2.0",
          "state": {
            "_model_module": "@jupyter-widgets/base",
            "_model_module_version": "1.2.0",
            "_model_name": "LayoutModel",
            "_view_count": null,
            "_view_module": "@jupyter-widgets/base",
            "_view_module_version": "1.2.0",
            "_view_name": "LayoutView",
            "align_content": null,
            "align_items": null,
            "align_self": null,
            "border": null,
            "bottom": null,
            "display": null,
            "flex": null,
            "flex_flow": null,
            "grid_area": null,
            "grid_auto_columns": null,
            "grid_auto_flow": null,
            "grid_auto_rows": null,
            "grid_column": null,
            "grid_gap": null,
            "grid_row": null,
            "grid_template_areas": null,
            "grid_template_columns": null,
            "grid_template_rows": null,
            "height": null,
            "justify_content": null,
            "justify_items": null,
            "left": null,
            "margin": null,
            "max_height": null,
            "max_width": null,
            "min_height": null,
            "min_width": null,
            "object_fit": null,
            "object_position": null,
            "order": null,
            "overflow": null,
            "overflow_x": null,
            "overflow_y": null,
            "padding": null,
            "right": null,
            "top": null,
            "visibility": null,
            "width": null
          }
        },
        "bfc02e53497a46309cf12956398b50d2": {
          "model_module": "@jupyter-widgets/controls",
          "model_name": "DescriptionStyleModel",
          "model_module_version": "1.5.0",
          "state": {
            "_model_module": "@jupyter-widgets/controls",
            "_model_module_version": "1.5.0",
            "_model_name": "DescriptionStyleModel",
            "_view_count": null,
            "_view_module": "@jupyter-widgets/base",
            "_view_module_version": "1.2.0",
            "_view_name": "StyleView",
            "description_width": ""
          }
        },
        "39791adee56e48d79bfff54e9a3decf5": {
          "model_module": "@jupyter-widgets/base",
          "model_name": "LayoutModel",
          "model_module_version": "1.2.0",
          "state": {
            "_model_module": "@jupyter-widgets/base",
            "_model_module_version": "1.2.0",
            "_model_name": "LayoutModel",
            "_view_count": null,
            "_view_module": "@jupyter-widgets/base",
            "_view_module_version": "1.2.0",
            "_view_name": "LayoutView",
            "align_content": null,
            "align_items": null,
            "align_self": null,
            "border": null,
            "bottom": null,
            "display": null,
            "flex": "2",
            "flex_flow": null,
            "grid_area": null,
            "grid_auto_columns": null,
            "grid_auto_flow": null,
            "grid_auto_rows": null,
            "grid_column": null,
            "grid_gap": null,
            "grid_row": null,
            "grid_template_areas": null,
            "grid_template_columns": null,
            "grid_template_rows": null,
            "height": null,
            "justify_content": null,
            "justify_items": null,
            "left": null,
            "margin": null,
            "max_height": null,
            "max_width": null,
            "min_height": null,
            "min_width": null,
            "object_fit": null,
            "object_position": null,
            "order": null,
            "overflow": null,
            "overflow_x": null,
            "overflow_y": null,
            "padding": null,
            "right": null,
            "top": null,
            "visibility": null,
            "width": null
          }
        },
        "9d1ab06b97614641b1c64391644701c8": {
          "model_module": "@jupyter-widgets/controls",
          "model_name": "ProgressStyleModel",
          "model_module_version": "1.5.0",
          "state": {
            "_model_module": "@jupyter-widgets/controls",
            "_model_module_version": "1.5.0",
            "_model_name": "ProgressStyleModel",
            "_view_count": null,
            "_view_module": "@jupyter-widgets/base",
            "_view_module_version": "1.2.0",
            "_view_name": "StyleView",
            "bar_color": null,
            "description_width": ""
          }
        },
        "97d14f3d8f8641d9a76b88b78c1ef80a": {
          "model_module": "@jupyter-widgets/base",
          "model_name": "LayoutModel",
          "model_module_version": "1.2.0",
          "state": {
            "_model_module": "@jupyter-widgets/base",
            "_model_module_version": "1.2.0",
            "_model_name": "LayoutModel",
            "_view_count": null,
            "_view_module": "@jupyter-widgets/base",
            "_view_module_version": "1.2.0",
            "_view_name": "LayoutView",
            "align_content": null,
            "align_items": null,
            "align_self": null,
            "border": null,
            "bottom": null,
            "display": null,
            "flex": null,
            "flex_flow": null,
            "grid_area": null,
            "grid_auto_columns": null,
            "grid_auto_flow": null,
            "grid_auto_rows": null,
            "grid_column": null,
            "grid_gap": null,
            "grid_row": null,
            "grid_template_areas": null,
            "grid_template_columns": null,
            "grid_template_rows": null,
            "height": null,
            "justify_content": null,
            "justify_items": null,
            "left": null,
            "margin": null,
            "max_height": null,
            "max_width": null,
            "min_height": null,
            "min_width": null,
            "object_fit": null,
            "object_position": null,
            "order": null,
            "overflow": null,
            "overflow_x": null,
            "overflow_y": null,
            "padding": null,
            "right": null,
            "top": null,
            "visibility": null,
            "width": null
          }
        },
        "438e1e6dbd0542a6a9568c4b0ac24b9f": {
          "model_module": "@jupyter-widgets/controls",
          "model_name": "DescriptionStyleModel",
          "model_module_version": "1.5.0",
          "state": {
            "_model_module": "@jupyter-widgets/controls",
            "_model_module_version": "1.5.0",
            "_model_name": "DescriptionStyleModel",
            "_view_count": null,
            "_view_module": "@jupyter-widgets/base",
            "_view_module_version": "1.2.0",
            "_view_name": "StyleView",
            "description_width": ""
          }
        },
        "8ff7e907848c4bebb0dabef0b6fc3e6c": {
          "model_module": "@jupyter-widgets/controls",
          "model_name": "HBoxModel",
          "model_module_version": "1.5.0",
          "state": {
            "_dom_classes": [],
            "_model_module": "@jupyter-widgets/controls",
            "_model_module_version": "1.5.0",
            "_model_name": "HBoxModel",
            "_view_count": null,
            "_view_module": "@jupyter-widgets/controls",
            "_view_module_version": "1.5.0",
            "_view_name": "HBoxView",
            "box_style": "",
            "children": [
              "IPY_MODEL_d1114ff019344952b0db47cf273dcdd0",
              "IPY_MODEL_82cff043b0064cd2ae95611ee30e80c0",
              "IPY_MODEL_499c33bd2bfa4279a956575aec906a8e"
            ],
            "layout": "IPY_MODEL_3c9ef981cbcf414d984a9041c2374c95"
          }
        },
        "d1114ff019344952b0db47cf273dcdd0": {
          "model_module": "@jupyter-widgets/controls",
          "model_name": "HTMLModel",
          "model_module_version": "1.5.0",
          "state": {
            "_dom_classes": [],
            "_model_module": "@jupyter-widgets/controls",
            "_model_module_version": "1.5.0",
            "_model_name": "HTMLModel",
            "_view_count": null,
            "_view_module": "@jupyter-widgets/controls",
            "_view_module_version": "1.5.0",
            "_view_name": "HTMLView",
            "description": "",
            "description_tooltip": null,
            "layout": "IPY_MODEL_0775e94623ac4b908e43630e46cda616",
            "placeholder": "​",
            "style": "IPY_MODEL_d2bad41b627b40e79cca13fd19201e2e",
            "value": "Validation DataLoader 0: 100%"
          }
        },
        "82cff043b0064cd2ae95611ee30e80c0": {
          "model_module": "@jupyter-widgets/controls",
          "model_name": "FloatProgressModel",
          "model_module_version": "1.5.0",
          "state": {
            "_dom_classes": [],
            "_model_module": "@jupyter-widgets/controls",
            "_model_module_version": "1.5.0",
            "_model_name": "FloatProgressModel",
            "_view_count": null,
            "_view_module": "@jupyter-widgets/controls",
            "_view_module_version": "1.5.0",
            "_view_name": "ProgressView",
            "bar_style": "",
            "description": "",
            "description_tooltip": null,
            "layout": "IPY_MODEL_ee931826e9224181ae9a7f997b5de601",
            "max": 20,
            "min": 0,
            "orientation": "horizontal",
            "style": "IPY_MODEL_7b39884a80d94101a165111beaefbb6f",
            "value": 20
          }
        },
        "499c33bd2bfa4279a956575aec906a8e": {
          "model_module": "@jupyter-widgets/controls",
          "model_name": "HTMLModel",
          "model_module_version": "1.5.0",
          "state": {
            "_dom_classes": [],
            "_model_module": "@jupyter-widgets/controls",
            "_model_module_version": "1.5.0",
            "_model_name": "HTMLModel",
            "_view_count": null,
            "_view_module": "@jupyter-widgets/controls",
            "_view_module_version": "1.5.0",
            "_view_name": "HTMLView",
            "description": "",
            "description_tooltip": null,
            "layout": "IPY_MODEL_a42d302f60734516adbbd6fdaee2b5db",
            "placeholder": "​",
            "style": "IPY_MODEL_30a745843ff24acc934904f1ab7b4edd",
            "value": " 20/20 [00:01&lt;00:00, 17.70it/s]"
          }
        },
        "3c9ef981cbcf414d984a9041c2374c95": {
          "model_module": "@jupyter-widgets/base",
          "model_name": "LayoutModel",
          "model_module_version": "1.2.0",
          "state": {
            "_model_module": "@jupyter-widgets/base",
            "_model_module_version": "1.2.0",
            "_model_name": "LayoutModel",
            "_view_count": null,
            "_view_module": "@jupyter-widgets/base",
            "_view_module_version": "1.2.0",
            "_view_name": "LayoutView",
            "align_content": null,
            "align_items": null,
            "align_self": null,
            "border": null,
            "bottom": null,
            "display": "inline-flex",
            "flex": null,
            "flex_flow": "row wrap",
            "grid_area": null,
            "grid_auto_columns": null,
            "grid_auto_flow": null,
            "grid_auto_rows": null,
            "grid_column": null,
            "grid_gap": null,
            "grid_row": null,
            "grid_template_areas": null,
            "grid_template_columns": null,
            "grid_template_rows": null,
            "height": null,
            "justify_content": null,
            "justify_items": null,
            "left": null,
            "margin": null,
            "max_height": null,
            "max_width": null,
            "min_height": null,
            "min_width": null,
            "object_fit": null,
            "object_position": null,
            "order": null,
            "overflow": null,
            "overflow_x": null,
            "overflow_y": null,
            "padding": null,
            "right": null,
            "top": null,
            "visibility": "hidden",
            "width": "100%"
          }
        },
        "0775e94623ac4b908e43630e46cda616": {
          "model_module": "@jupyter-widgets/base",
          "model_name": "LayoutModel",
          "model_module_version": "1.2.0",
          "state": {
            "_model_module": "@jupyter-widgets/base",
            "_model_module_version": "1.2.0",
            "_model_name": "LayoutModel",
            "_view_count": null,
            "_view_module": "@jupyter-widgets/base",
            "_view_module_version": "1.2.0",
            "_view_name": "LayoutView",
            "align_content": null,
            "align_items": null,
            "align_self": null,
            "border": null,
            "bottom": null,
            "display": null,
            "flex": null,
            "flex_flow": null,
            "grid_area": null,
            "grid_auto_columns": null,
            "grid_auto_flow": null,
            "grid_auto_rows": null,
            "grid_column": null,
            "grid_gap": null,
            "grid_row": null,
            "grid_template_areas": null,
            "grid_template_columns": null,
            "grid_template_rows": null,
            "height": null,
            "justify_content": null,
            "justify_items": null,
            "left": null,
            "margin": null,
            "max_height": null,
            "max_width": null,
            "min_height": null,
            "min_width": null,
            "object_fit": null,
            "object_position": null,
            "order": null,
            "overflow": null,
            "overflow_x": null,
            "overflow_y": null,
            "padding": null,
            "right": null,
            "top": null,
            "visibility": null,
            "width": null
          }
        },
        "d2bad41b627b40e79cca13fd19201e2e": {
          "model_module": "@jupyter-widgets/controls",
          "model_name": "DescriptionStyleModel",
          "model_module_version": "1.5.0",
          "state": {
            "_model_module": "@jupyter-widgets/controls",
            "_model_module_version": "1.5.0",
            "_model_name": "DescriptionStyleModel",
            "_view_count": null,
            "_view_module": "@jupyter-widgets/base",
            "_view_module_version": "1.2.0",
            "_view_name": "StyleView",
            "description_width": ""
          }
        },
        "ee931826e9224181ae9a7f997b5de601": {
          "model_module": "@jupyter-widgets/base",
          "model_name": "LayoutModel",
          "model_module_version": "1.2.0",
          "state": {
            "_model_module": "@jupyter-widgets/base",
            "_model_module_version": "1.2.0",
            "_model_name": "LayoutModel",
            "_view_count": null,
            "_view_module": "@jupyter-widgets/base",
            "_view_module_version": "1.2.0",
            "_view_name": "LayoutView",
            "align_content": null,
            "align_items": null,
            "align_self": null,
            "border": null,
            "bottom": null,
            "display": null,
            "flex": "2",
            "flex_flow": null,
            "grid_area": null,
            "grid_auto_columns": null,
            "grid_auto_flow": null,
            "grid_auto_rows": null,
            "grid_column": null,
            "grid_gap": null,
            "grid_row": null,
            "grid_template_areas": null,
            "grid_template_columns": null,
            "grid_template_rows": null,
            "height": null,
            "justify_content": null,
            "justify_items": null,
            "left": null,
            "margin": null,
            "max_height": null,
            "max_width": null,
            "min_height": null,
            "min_width": null,
            "object_fit": null,
            "object_position": null,
            "order": null,
            "overflow": null,
            "overflow_x": null,
            "overflow_y": null,
            "padding": null,
            "right": null,
            "top": null,
            "visibility": null,
            "width": null
          }
        },
        "7b39884a80d94101a165111beaefbb6f": {
          "model_module": "@jupyter-widgets/controls",
          "model_name": "ProgressStyleModel",
          "model_module_version": "1.5.0",
          "state": {
            "_model_module": "@jupyter-widgets/controls",
            "_model_module_version": "1.5.0",
            "_model_name": "ProgressStyleModel",
            "_view_count": null,
            "_view_module": "@jupyter-widgets/base",
            "_view_module_version": "1.2.0",
            "_view_name": "StyleView",
            "bar_color": null,
            "description_width": ""
          }
        },
        "a42d302f60734516adbbd6fdaee2b5db": {
          "model_module": "@jupyter-widgets/base",
          "model_name": "LayoutModel",
          "model_module_version": "1.2.0",
          "state": {
            "_model_module": "@jupyter-widgets/base",
            "_model_module_version": "1.2.0",
            "_model_name": "LayoutModel",
            "_view_count": null,
            "_view_module": "@jupyter-widgets/base",
            "_view_module_version": "1.2.0",
            "_view_name": "LayoutView",
            "align_content": null,
            "align_items": null,
            "align_self": null,
            "border": null,
            "bottom": null,
            "display": null,
            "flex": null,
            "flex_flow": null,
            "grid_area": null,
            "grid_auto_columns": null,
            "grid_auto_flow": null,
            "grid_auto_rows": null,
            "grid_column": null,
            "grid_gap": null,
            "grid_row": null,
            "grid_template_areas": null,
            "grid_template_columns": null,
            "grid_template_rows": null,
            "height": null,
            "justify_content": null,
            "justify_items": null,
            "left": null,
            "margin": null,
            "max_height": null,
            "max_width": null,
            "min_height": null,
            "min_width": null,
            "object_fit": null,
            "object_position": null,
            "order": null,
            "overflow": null,
            "overflow_x": null,
            "overflow_y": null,
            "padding": null,
            "right": null,
            "top": null,
            "visibility": null,
            "width": null
          }
        },
        "30a745843ff24acc934904f1ab7b4edd": {
          "model_module": "@jupyter-widgets/controls",
          "model_name": "DescriptionStyleModel",
          "model_module_version": "1.5.0",
          "state": {
            "_model_module": "@jupyter-widgets/controls",
            "_model_module_version": "1.5.0",
            "_model_name": "DescriptionStyleModel",
            "_view_count": null,
            "_view_module": "@jupyter-widgets/base",
            "_view_module_version": "1.2.0",
            "_view_name": "StyleView",
            "description_width": ""
          }
        },
        "447033655f074cfcbfe5c45b20831e10": {
          "model_module": "@jupyter-widgets/controls",
          "model_name": "HBoxModel",
          "model_module_version": "1.5.0",
          "state": {
            "_dom_classes": [],
            "_model_module": "@jupyter-widgets/controls",
            "_model_module_version": "1.5.0",
            "_model_name": "HBoxModel",
            "_view_count": null,
            "_view_module": "@jupyter-widgets/controls",
            "_view_module_version": "1.5.0",
            "_view_name": "HBoxView",
            "box_style": "",
            "children": [
              "IPY_MODEL_4d1ff115f2604de789e4e5be3de85a77",
              "IPY_MODEL_8b293d7a0f404e17a19b3a7d2563cee5",
              "IPY_MODEL_250e0a0726764b70af88fdb6a0ed9029"
            ],
            "layout": "IPY_MODEL_4338ab8ed315426aba4ad7b4311b231d"
          }
        },
        "4d1ff115f2604de789e4e5be3de85a77": {
          "model_module": "@jupyter-widgets/controls",
          "model_name": "HTMLModel",
          "model_module_version": "1.5.0",
          "state": {
            "_dom_classes": [],
            "_model_module": "@jupyter-widgets/controls",
            "_model_module_version": "1.5.0",
            "_model_name": "HTMLModel",
            "_view_count": null,
            "_view_module": "@jupyter-widgets/controls",
            "_view_module_version": "1.5.0",
            "_view_name": "HTMLView",
            "description": "",
            "description_tooltip": null,
            "layout": "IPY_MODEL_0dc63ba8a2114538963ec6871bf72d1b",
            "placeholder": "​",
            "style": "IPY_MODEL_2899cb4d03ca47f2b216a904c4d1dbfc",
            "value": "Validation DataLoader 0: 100%"
          }
        },
        "8b293d7a0f404e17a19b3a7d2563cee5": {
          "model_module": "@jupyter-widgets/controls",
          "model_name": "FloatProgressModel",
          "model_module_version": "1.5.0",
          "state": {
            "_dom_classes": [],
            "_model_module": "@jupyter-widgets/controls",
            "_model_module_version": "1.5.0",
            "_model_name": "FloatProgressModel",
            "_view_count": null,
            "_view_module": "@jupyter-widgets/controls",
            "_view_module_version": "1.5.0",
            "_view_name": "ProgressView",
            "bar_style": "",
            "description": "",
            "description_tooltip": null,
            "layout": "IPY_MODEL_ca1435491b904321b0217eccb18d69d2",
            "max": 20,
            "min": 0,
            "orientation": "horizontal",
            "style": "IPY_MODEL_4d66009dab264dd6a599c5e63879f5bc",
            "value": 20
          }
        },
        "250e0a0726764b70af88fdb6a0ed9029": {
          "model_module": "@jupyter-widgets/controls",
          "model_name": "HTMLModel",
          "model_module_version": "1.5.0",
          "state": {
            "_dom_classes": [],
            "_model_module": "@jupyter-widgets/controls",
            "_model_module_version": "1.5.0",
            "_model_name": "HTMLModel",
            "_view_count": null,
            "_view_module": "@jupyter-widgets/controls",
            "_view_module_version": "1.5.0",
            "_view_name": "HTMLView",
            "description": "",
            "description_tooltip": null,
            "layout": "IPY_MODEL_b26b9396b6684f1c9a17ad9cd21d2abf",
            "placeholder": "​",
            "style": "IPY_MODEL_2502ca3182fe4e73aebdaa74b7d0233a",
            "value": " 20/20 [00:00&lt;00:00, 27.02it/s]"
          }
        },
        "4338ab8ed315426aba4ad7b4311b231d": {
          "model_module": "@jupyter-widgets/base",
          "model_name": "LayoutModel",
          "model_module_version": "1.2.0",
          "state": {
            "_model_module": "@jupyter-widgets/base",
            "_model_module_version": "1.2.0",
            "_model_name": "LayoutModel",
            "_view_count": null,
            "_view_module": "@jupyter-widgets/base",
            "_view_module_version": "1.2.0",
            "_view_name": "LayoutView",
            "align_content": null,
            "align_items": null,
            "align_self": null,
            "border": null,
            "bottom": null,
            "display": "inline-flex",
            "flex": null,
            "flex_flow": "row wrap",
            "grid_area": null,
            "grid_auto_columns": null,
            "grid_auto_flow": null,
            "grid_auto_rows": null,
            "grid_column": null,
            "grid_gap": null,
            "grid_row": null,
            "grid_template_areas": null,
            "grid_template_columns": null,
            "grid_template_rows": null,
            "height": null,
            "justify_content": null,
            "justify_items": null,
            "left": null,
            "margin": null,
            "max_height": null,
            "max_width": null,
            "min_height": null,
            "min_width": null,
            "object_fit": null,
            "object_position": null,
            "order": null,
            "overflow": null,
            "overflow_x": null,
            "overflow_y": null,
            "padding": null,
            "right": null,
            "top": null,
            "visibility": "hidden",
            "width": "100%"
          }
        },
        "0dc63ba8a2114538963ec6871bf72d1b": {
          "model_module": "@jupyter-widgets/base",
          "model_name": "LayoutModel",
          "model_module_version": "1.2.0",
          "state": {
            "_model_module": "@jupyter-widgets/base",
            "_model_module_version": "1.2.0",
            "_model_name": "LayoutModel",
            "_view_count": null,
            "_view_module": "@jupyter-widgets/base",
            "_view_module_version": "1.2.0",
            "_view_name": "LayoutView",
            "align_content": null,
            "align_items": null,
            "align_self": null,
            "border": null,
            "bottom": null,
            "display": null,
            "flex": null,
            "flex_flow": null,
            "grid_area": null,
            "grid_auto_columns": null,
            "grid_auto_flow": null,
            "grid_auto_rows": null,
            "grid_column": null,
            "grid_gap": null,
            "grid_row": null,
            "grid_template_areas": null,
            "grid_template_columns": null,
            "grid_template_rows": null,
            "height": null,
            "justify_content": null,
            "justify_items": null,
            "left": null,
            "margin": null,
            "max_height": null,
            "max_width": null,
            "min_height": null,
            "min_width": null,
            "object_fit": null,
            "object_position": null,
            "order": null,
            "overflow": null,
            "overflow_x": null,
            "overflow_y": null,
            "padding": null,
            "right": null,
            "top": null,
            "visibility": null,
            "width": null
          }
        },
        "2899cb4d03ca47f2b216a904c4d1dbfc": {
          "model_module": "@jupyter-widgets/controls",
          "model_name": "DescriptionStyleModel",
          "model_module_version": "1.5.0",
          "state": {
            "_model_module": "@jupyter-widgets/controls",
            "_model_module_version": "1.5.0",
            "_model_name": "DescriptionStyleModel",
            "_view_count": null,
            "_view_module": "@jupyter-widgets/base",
            "_view_module_version": "1.2.0",
            "_view_name": "StyleView",
            "description_width": ""
          }
        },
        "ca1435491b904321b0217eccb18d69d2": {
          "model_module": "@jupyter-widgets/base",
          "model_name": "LayoutModel",
          "model_module_version": "1.2.0",
          "state": {
            "_model_module": "@jupyter-widgets/base",
            "_model_module_version": "1.2.0",
            "_model_name": "LayoutModel",
            "_view_count": null,
            "_view_module": "@jupyter-widgets/base",
            "_view_module_version": "1.2.0",
            "_view_name": "LayoutView",
            "align_content": null,
            "align_items": null,
            "align_self": null,
            "border": null,
            "bottom": null,
            "display": null,
            "flex": "2",
            "flex_flow": null,
            "grid_area": null,
            "grid_auto_columns": null,
            "grid_auto_flow": null,
            "grid_auto_rows": null,
            "grid_column": null,
            "grid_gap": null,
            "grid_row": null,
            "grid_template_areas": null,
            "grid_template_columns": null,
            "grid_template_rows": null,
            "height": null,
            "justify_content": null,
            "justify_items": null,
            "left": null,
            "margin": null,
            "max_height": null,
            "max_width": null,
            "min_height": null,
            "min_width": null,
            "object_fit": null,
            "object_position": null,
            "order": null,
            "overflow": null,
            "overflow_x": null,
            "overflow_y": null,
            "padding": null,
            "right": null,
            "top": null,
            "visibility": null,
            "width": null
          }
        },
        "4d66009dab264dd6a599c5e63879f5bc": {
          "model_module": "@jupyter-widgets/controls",
          "model_name": "ProgressStyleModel",
          "model_module_version": "1.5.0",
          "state": {
            "_model_module": "@jupyter-widgets/controls",
            "_model_module_version": "1.5.0",
            "_model_name": "ProgressStyleModel",
            "_view_count": null,
            "_view_module": "@jupyter-widgets/base",
            "_view_module_version": "1.2.0",
            "_view_name": "StyleView",
            "bar_color": null,
            "description_width": ""
          }
        },
        "b26b9396b6684f1c9a17ad9cd21d2abf": {
          "model_module": "@jupyter-widgets/base",
          "model_name": "LayoutModel",
          "model_module_version": "1.2.0",
          "state": {
            "_model_module": "@jupyter-widgets/base",
            "_model_module_version": "1.2.0",
            "_model_name": "LayoutModel",
            "_view_count": null,
            "_view_module": "@jupyter-widgets/base",
            "_view_module_version": "1.2.0",
            "_view_name": "LayoutView",
            "align_content": null,
            "align_items": null,
            "align_self": null,
            "border": null,
            "bottom": null,
            "display": null,
            "flex": null,
            "flex_flow": null,
            "grid_area": null,
            "grid_auto_columns": null,
            "grid_auto_flow": null,
            "grid_auto_rows": null,
            "grid_column": null,
            "grid_gap": null,
            "grid_row": null,
            "grid_template_areas": null,
            "grid_template_columns": null,
            "grid_template_rows": null,
            "height": null,
            "justify_content": null,
            "justify_items": null,
            "left": null,
            "margin": null,
            "max_height": null,
            "max_width": null,
            "min_height": null,
            "min_width": null,
            "object_fit": null,
            "object_position": null,
            "order": null,
            "overflow": null,
            "overflow_x": null,
            "overflow_y": null,
            "padding": null,
            "right": null,
            "top": null,
            "visibility": null,
            "width": null
          }
        },
        "2502ca3182fe4e73aebdaa74b7d0233a": {
          "model_module": "@jupyter-widgets/controls",
          "model_name": "DescriptionStyleModel",
          "model_module_version": "1.5.0",
          "state": {
            "_model_module": "@jupyter-widgets/controls",
            "_model_module_version": "1.5.0",
            "_model_name": "DescriptionStyleModel",
            "_view_count": null,
            "_view_module": "@jupyter-widgets/base",
            "_view_module_version": "1.2.0",
            "_view_name": "StyleView",
            "description_width": ""
          }
        },
        "a750243a33bd40c09ecc7e726922d57a": {
          "model_module": "@jupyter-widgets/controls",
          "model_name": "HBoxModel",
          "model_module_version": "1.5.0",
          "state": {
            "_dom_classes": [],
            "_model_module": "@jupyter-widgets/controls",
            "_model_module_version": "1.5.0",
            "_model_name": "HBoxModel",
            "_view_count": null,
            "_view_module": "@jupyter-widgets/controls",
            "_view_module_version": "1.5.0",
            "_view_name": "HBoxView",
            "box_style": "",
            "children": [
              "IPY_MODEL_2a15c9ee7b974ef8ac334b7db2107c9e",
              "IPY_MODEL_55c6eb81ea2e46efb180fd645c3c8bc5",
              "IPY_MODEL_3128fb345c7d48c7a1fafb08fcc12c8b"
            ],
            "layout": "IPY_MODEL_c50be1b0c453450fadeb4f227d1d41cd"
          }
        },
        "2a15c9ee7b974ef8ac334b7db2107c9e": {
          "model_module": "@jupyter-widgets/controls",
          "model_name": "HTMLModel",
          "model_module_version": "1.5.0",
          "state": {
            "_dom_classes": [],
            "_model_module": "@jupyter-widgets/controls",
            "_model_module_version": "1.5.0",
            "_model_name": "HTMLModel",
            "_view_count": null,
            "_view_module": "@jupyter-widgets/controls",
            "_view_module_version": "1.5.0",
            "_view_name": "HTMLView",
            "description": "",
            "description_tooltip": null,
            "layout": "IPY_MODEL_f7efb87d2f5044f5a24fe476e1939c85",
            "placeholder": "​",
            "style": "IPY_MODEL_f6a8b1a9c9c24bfe9e777486ee3729f5",
            "value": "Validation DataLoader 0: 100%"
          }
        },
        "55c6eb81ea2e46efb180fd645c3c8bc5": {
          "model_module": "@jupyter-widgets/controls",
          "model_name": "FloatProgressModel",
          "model_module_version": "1.5.0",
          "state": {
            "_dom_classes": [],
            "_model_module": "@jupyter-widgets/controls",
            "_model_module_version": "1.5.0",
            "_model_name": "FloatProgressModel",
            "_view_count": null,
            "_view_module": "@jupyter-widgets/controls",
            "_view_module_version": "1.5.0",
            "_view_name": "ProgressView",
            "bar_style": "",
            "description": "",
            "description_tooltip": null,
            "layout": "IPY_MODEL_601a51e29bc84965a235012c6aeee1f6",
            "max": 20,
            "min": 0,
            "orientation": "horizontal",
            "style": "IPY_MODEL_e1c95f30108f4558b6f092defb73e09e",
            "value": 20
          }
        },
        "3128fb345c7d48c7a1fafb08fcc12c8b": {
          "model_module": "@jupyter-widgets/controls",
          "model_name": "HTMLModel",
          "model_module_version": "1.5.0",
          "state": {
            "_dom_classes": [],
            "_model_module": "@jupyter-widgets/controls",
            "_model_module_version": "1.5.0",
            "_model_name": "HTMLModel",
            "_view_count": null,
            "_view_module": "@jupyter-widgets/controls",
            "_view_module_version": "1.5.0",
            "_view_name": "HTMLView",
            "description": "",
            "description_tooltip": null,
            "layout": "IPY_MODEL_722f2a07581f4c20b278a0339bca8e0d",
            "placeholder": "​",
            "style": "IPY_MODEL_295219b7cfea4e019d0d8519fffbeeb5",
            "value": " 20/20 [00:00&lt;00:00, 29.10it/s]"
          }
        },
        "c50be1b0c453450fadeb4f227d1d41cd": {
          "model_module": "@jupyter-widgets/base",
          "model_name": "LayoutModel",
          "model_module_version": "1.2.0",
          "state": {
            "_model_module": "@jupyter-widgets/base",
            "_model_module_version": "1.2.0",
            "_model_name": "LayoutModel",
            "_view_count": null,
            "_view_module": "@jupyter-widgets/base",
            "_view_module_version": "1.2.0",
            "_view_name": "LayoutView",
            "align_content": null,
            "align_items": null,
            "align_self": null,
            "border": null,
            "bottom": null,
            "display": "inline-flex",
            "flex": null,
            "flex_flow": "row wrap",
            "grid_area": null,
            "grid_auto_columns": null,
            "grid_auto_flow": null,
            "grid_auto_rows": null,
            "grid_column": null,
            "grid_gap": null,
            "grid_row": null,
            "grid_template_areas": null,
            "grid_template_columns": null,
            "grid_template_rows": null,
            "height": null,
            "justify_content": null,
            "justify_items": null,
            "left": null,
            "margin": null,
            "max_height": null,
            "max_width": null,
            "min_height": null,
            "min_width": null,
            "object_fit": null,
            "object_position": null,
            "order": null,
            "overflow": null,
            "overflow_x": null,
            "overflow_y": null,
            "padding": null,
            "right": null,
            "top": null,
            "visibility": "hidden",
            "width": "100%"
          }
        },
        "f7efb87d2f5044f5a24fe476e1939c85": {
          "model_module": "@jupyter-widgets/base",
          "model_name": "LayoutModel",
          "model_module_version": "1.2.0",
          "state": {
            "_model_module": "@jupyter-widgets/base",
            "_model_module_version": "1.2.0",
            "_model_name": "LayoutModel",
            "_view_count": null,
            "_view_module": "@jupyter-widgets/base",
            "_view_module_version": "1.2.0",
            "_view_name": "LayoutView",
            "align_content": null,
            "align_items": null,
            "align_self": null,
            "border": null,
            "bottom": null,
            "display": null,
            "flex": null,
            "flex_flow": null,
            "grid_area": null,
            "grid_auto_columns": null,
            "grid_auto_flow": null,
            "grid_auto_rows": null,
            "grid_column": null,
            "grid_gap": null,
            "grid_row": null,
            "grid_template_areas": null,
            "grid_template_columns": null,
            "grid_template_rows": null,
            "height": null,
            "justify_content": null,
            "justify_items": null,
            "left": null,
            "margin": null,
            "max_height": null,
            "max_width": null,
            "min_height": null,
            "min_width": null,
            "object_fit": null,
            "object_position": null,
            "order": null,
            "overflow": null,
            "overflow_x": null,
            "overflow_y": null,
            "padding": null,
            "right": null,
            "top": null,
            "visibility": null,
            "width": null
          }
        },
        "f6a8b1a9c9c24bfe9e777486ee3729f5": {
          "model_module": "@jupyter-widgets/controls",
          "model_name": "DescriptionStyleModel",
          "model_module_version": "1.5.0",
          "state": {
            "_model_module": "@jupyter-widgets/controls",
            "_model_module_version": "1.5.0",
            "_model_name": "DescriptionStyleModel",
            "_view_count": null,
            "_view_module": "@jupyter-widgets/base",
            "_view_module_version": "1.2.0",
            "_view_name": "StyleView",
            "description_width": ""
          }
        },
        "601a51e29bc84965a235012c6aeee1f6": {
          "model_module": "@jupyter-widgets/base",
          "model_name": "LayoutModel",
          "model_module_version": "1.2.0",
          "state": {
            "_model_module": "@jupyter-widgets/base",
            "_model_module_version": "1.2.0",
            "_model_name": "LayoutModel",
            "_view_count": null,
            "_view_module": "@jupyter-widgets/base",
            "_view_module_version": "1.2.0",
            "_view_name": "LayoutView",
            "align_content": null,
            "align_items": null,
            "align_self": null,
            "border": null,
            "bottom": null,
            "display": null,
            "flex": "2",
            "flex_flow": null,
            "grid_area": null,
            "grid_auto_columns": null,
            "grid_auto_flow": null,
            "grid_auto_rows": null,
            "grid_column": null,
            "grid_gap": null,
            "grid_row": null,
            "grid_template_areas": null,
            "grid_template_columns": null,
            "grid_template_rows": null,
            "height": null,
            "justify_content": null,
            "justify_items": null,
            "left": null,
            "margin": null,
            "max_height": null,
            "max_width": null,
            "min_height": null,
            "min_width": null,
            "object_fit": null,
            "object_position": null,
            "order": null,
            "overflow": null,
            "overflow_x": null,
            "overflow_y": null,
            "padding": null,
            "right": null,
            "top": null,
            "visibility": null,
            "width": null
          }
        },
        "e1c95f30108f4558b6f092defb73e09e": {
          "model_module": "@jupyter-widgets/controls",
          "model_name": "ProgressStyleModel",
          "model_module_version": "1.5.0",
          "state": {
            "_model_module": "@jupyter-widgets/controls",
            "_model_module_version": "1.5.0",
            "_model_name": "ProgressStyleModel",
            "_view_count": null,
            "_view_module": "@jupyter-widgets/base",
            "_view_module_version": "1.2.0",
            "_view_name": "StyleView",
            "bar_color": null,
            "description_width": ""
          }
        },
        "722f2a07581f4c20b278a0339bca8e0d": {
          "model_module": "@jupyter-widgets/base",
          "model_name": "LayoutModel",
          "model_module_version": "1.2.0",
          "state": {
            "_model_module": "@jupyter-widgets/base",
            "_model_module_version": "1.2.0",
            "_model_name": "LayoutModel",
            "_view_count": null,
            "_view_module": "@jupyter-widgets/base",
            "_view_module_version": "1.2.0",
            "_view_name": "LayoutView",
            "align_content": null,
            "align_items": null,
            "align_self": null,
            "border": null,
            "bottom": null,
            "display": null,
            "flex": null,
            "flex_flow": null,
            "grid_area": null,
            "grid_auto_columns": null,
            "grid_auto_flow": null,
            "grid_auto_rows": null,
            "grid_column": null,
            "grid_gap": null,
            "grid_row": null,
            "grid_template_areas": null,
            "grid_template_columns": null,
            "grid_template_rows": null,
            "height": null,
            "justify_content": null,
            "justify_items": null,
            "left": null,
            "margin": null,
            "max_height": null,
            "max_width": null,
            "min_height": null,
            "min_width": null,
            "object_fit": null,
            "object_position": null,
            "order": null,
            "overflow": null,
            "overflow_x": null,
            "overflow_y": null,
            "padding": null,
            "right": null,
            "top": null,
            "visibility": null,
            "width": null
          }
        },
        "295219b7cfea4e019d0d8519fffbeeb5": {
          "model_module": "@jupyter-widgets/controls",
          "model_name": "DescriptionStyleModel",
          "model_module_version": "1.5.0",
          "state": {
            "_model_module": "@jupyter-widgets/controls",
            "_model_module_version": "1.5.0",
            "_model_name": "DescriptionStyleModel",
            "_view_count": null,
            "_view_module": "@jupyter-widgets/base",
            "_view_module_version": "1.2.0",
            "_view_name": "StyleView",
            "description_width": ""
          }
        }
      }
    }
  },
  "cells": [
    {
      "cell_type": "markdown",
      "source": [
        "# New Environment: Creating and Modeling\n",
        "\n",
        "In this notebook, we will show how to extend RL4CO to solve new problems from zero to hero! 🚀"
      ],
      "metadata": {
        "id": "I2vBjmqBLZsD"
      }
    },
    {
      "cell_type": "markdown",
      "source": [
        "## Problem: TSP\n",
        "We will build an environment and model for the Traveling Salesman Problem (TSP). The TSP is a well-known combinatorial optimization problem that consists of finding the shortest route that visits each city in a given list exactly once and returns to the origin city. The TSP is NP-hard, and it is one of the most studied problems in combinatorial optimization."
      ],
      "metadata": {
        "id": "HS6_m7GGLqcD"
      }
    },
    {
      "cell_type": "markdown",
      "source": [
        "### Installation"
      ],
      "metadata": {
        "id": "ratlg2f2L2Us"
      }
    },
    {
      "cell_type": "code",
      "execution_count": 1,
      "metadata": {
        "colab": {
          "base_uri": "https://localhost:8080/"
        },
        "id": "DpifdQfeK8v4",
        "outputId": "508d2b8e-db0d-4f74-af77-38857902b1cc"
      },
      "outputs": [
        {
          "output_type": "stream",
          "name": "stdout",
          "text": [
            "\u001b[2K     \u001b[90m━━━━━━━━━━━━━━━━━━━━━━━━━━━━━━━━━━━━━━━━\u001b[0m \u001b[32m50.4/50.4 kB\u001b[0m \u001b[31m1.9 MB/s\u001b[0m eta \u001b[36m0:00:00\u001b[0m\n",
            "\u001b[2K     \u001b[90m━━━━━━━━━━━━━━━━━━━━━━━━━━━━━━━━━━━━━━━━\u001b[0m \u001b[32m117.0/117.0 kB\u001b[0m \u001b[31m5.5 MB/s\u001b[0m eta \u001b[36m0:00:00\u001b[0m\n",
            "\u001b[?25h  Preparing metadata (setup.py) ... \u001b[?25l\u001b[?25hdone\n",
            "\u001b[2K   \u001b[90m━━━━━━━━━━━━━━━━━━━━━━━━━━━━━━━━━━━━━━━━\u001b[0m \u001b[32m374.7/374.7 kB\u001b[0m \u001b[31m5.3 MB/s\u001b[0m eta \u001b[36m0:00:00\u001b[0m\n",
            "\u001b[2K   \u001b[90m━━━━━━━━━━━━━━━━━━━━━━━━━━━━━━━━━━━━━━━━\u001b[0m \u001b[32m811.0/811.0 kB\u001b[0m \u001b[31m28.4 MB/s\u001b[0m eta \u001b[36m0:00:00\u001b[0m\n",
            "\u001b[2K   \u001b[90m━━━━━━━━━━━━━━━━━━━━━━━━━━━━━━━━━━━━━━━━\u001b[0m \u001b[32m336.1/336.1 kB\u001b[0m \u001b[31m21.1 MB/s\u001b[0m eta \u001b[36m0:00:00\u001b[0m\n",
            "\u001b[2K   \u001b[90m━━━━━━━━━━━━━━━━━━━━━━━━━━━━━━━━━━━━━━━━\u001b[0m \u001b[32m988.0/988.0 kB\u001b[0m \u001b[31m41.1 MB/s\u001b[0m eta \u001b[36m0:00:00\u001b[0m\n",
            "\u001b[2K   \u001b[90m━━━━━━━━━━━━━━━━━━━━━━━━━━━━━━━━━━━━━━━━\u001b[0m \u001b[32m154.5/154.5 kB\u001b[0m \u001b[31m13.2 MB/s\u001b[0m eta \u001b[36m0:00:00\u001b[0m\n",
            "\u001b[2K   \u001b[90m━━━━━━━━━━━━━━━━━━━━━━━━━━━━━━━━━━━━━━━━\u001b[0m \u001b[32m79.5/79.5 kB\u001b[0m \u001b[31m6.5 MB/s\u001b[0m eta \u001b[36m0:00:00\u001b[0m\n",
            "\u001b[2K   \u001b[90m━━━━━━━━━━━━━━━━━━━━━━━━━━━━━━━━━━━━━━━━\u001b[0m \u001b[32m9.7/9.7 MB\u001b[0m \u001b[31m75.0 MB/s\u001b[0m eta \u001b[36m0:00:00\u001b[0m\n",
            "\u001b[2K   \u001b[90m━━━━━━━━━━━━━━━━━━━━━━━━━━━━━━━━━━━━━━━━\u001b[0m \u001b[32m207.3/207.3 kB\u001b[0m \u001b[31m17.8 MB/s\u001b[0m eta \u001b[36m0:00:00\u001b[0m\n",
            "\u001b[2K   \u001b[90m━━━━━━━━━━━━━━━━━━━━━━━━━━━━━━━━━━━━━━━━\u001b[0m \u001b[32m311.4/311.4 kB\u001b[0m \u001b[31m25.1 MB/s\u001b[0m eta \u001b[36m0:00:00\u001b[0m\n",
            "\u001b[2K   \u001b[90m━━━━━━━━━━━━━━━━━━━━━━━━━━━━━━━━━━━━━━━━\u001b[0m \u001b[32m869.2/869.2 kB\u001b[0m \u001b[31m37.0 MB/s\u001b[0m eta \u001b[36m0:00:00\u001b[0m\n",
            "\u001b[2K   \u001b[90m━━━━━━━━━━━━━━━━━━━━━━━━━━━━━━━━━━━━━━━━\u001b[0m \u001b[32m141.9/141.9 kB\u001b[0m \u001b[31m12.4 MB/s\u001b[0m eta \u001b[36m0:00:00\u001b[0m\n",
            "\u001b[2K   \u001b[90m━━━━━━━━━━━━━━━━━━━━━━━━━━━━━━━━━━━━━━━━\u001b[0m \u001b[32m815.2/815.2 kB\u001b[0m \u001b[31m47.4 MB/s\u001b[0m eta \u001b[36m0:00:00\u001b[0m\n",
            "\u001b[2K   \u001b[90m━━━━━━━━━━━━━━━━━━━━━━━━━━━━━━━━━━━━━━━━\u001b[0m \u001b[32m62.7/62.7 kB\u001b[0m \u001b[31m894.2 kB/s\u001b[0m eta \u001b[36m0:00:00\u001b[0m\n",
            "\u001b[?25h  Building wheel for antlr4-python3-runtime (setup.py) ... \u001b[?25l\u001b[?25hdone\n"
          ]
        }
      ],
      "source": [
        "!pip install rl4co -qU"
      ]
    },
    {
      "cell_type": "markdown",
      "source": [
        "### Imports"
      ],
      "metadata": {
        "id": "qcx8yn4GL0D1"
      }
    },
    {
      "cell_type": "code",
      "source": [
        "from typing import Optional\n",
        "import torch\n",
        "import torch.nn as nn\n",
        "\n",
        "from tensordict.tensordict import TensorDict\n",
        "# Use torch RL module\n",
        "from torchrl.data import (\n",
        "    BoundedTensorSpec,\n",
        "    CompositeSpec,\n",
        "    UnboundedContinuousTensorSpec,\n",
        "    UnboundedDiscreteTensorSpec\n",
        ")\n",
        "\n",
        "from rl4co.utils.decoding import rollout, random_policy\n",
        "from rl4co.envs.common import RL4COEnvBase, Generator, get_sampler\n",
        "from rl4co.models.zoo import AttentionModel, AttentionModelPolicy\n",
        "from rl4co.utils.ops import gather_by_index, get_tour_length\n",
        "from rl4co.utils.trainer import RL4COTrainer"
      ],
      "metadata": {
        "id": "Rm7q3LTELC3P"
      },
      "execution_count": 2,
      "outputs": []
    },
    {
      "cell_type": "markdown",
      "source": [
        "## Environment\n",
        "### Creation\n",
        "We will base environment creation on the `RL4COEnvBase` class, which is based on [TorchRL](https://github.com/pytorch/rl). More information in [documentation](https://rl4co.readthedocs.io/en/stable/docs/content/api/envs/base/?h=rl4coenvbase#envs.common.base.RL4COEnvBase)!\n",
        "### Reset\n",
        "The `_reset` function is used to initialize the environment to an initial state. It returns a TensorDict of the initial state."
      ],
      "metadata": {
        "id": "6W2-Eg_xM6XD"
      }
    },
    {
      "cell_type": "code",
      "source": [
        "# Optional[x] -> None or x type\n",
        "def _reset(self, td: Optional[TensorDict]=None, batch_size=None) -> TensorDict:\n",
        "    # initalize locations\n",
        "    init_locs = td['locs'] if td is not None else None\n",
        "\n",
        "    # batch size init\n",
        "    if batch_size is None:\n",
        "        batch_size = self.batch_size if init_locs is None else init_locs.shape[:-2]\n",
        "\n",
        "    # device init\n",
        "    device = init_locs.device if init_locs is not None else self.device\n",
        "    self.to(device)\n",
        "\n",
        "    # reassign init_locs\n",
        "    if init_locs is None:\n",
        "        init_locs = self.generate_data(batch_size=batch_size).to(device)[\"locs\"]\n",
        "\n",
        "    # create batch size to list\n",
        "    batch_size = [batch_size] if isinstance(batch_size, int) else batch_size\n",
        "\n",
        "    # Do not enforce loading from self for flexibility\n",
        "    num_loc = init_locs.shape[-2]\n",
        "\n",
        "    # Other variables\n",
        "    current_node = torch.zeros((batch_size), dtype=torch.int64, device=device)\n",
        "    available = torch.ones(\n",
        "        (*batch_size, num_loc), dtype=torch.bool, device=device\n",
        "    )\n",
        "    # 1 means not visitied, i.e. action is allowed\n",
        "    i = torch.zeros((*batch_size, 1), dtype=torch.int64, device=device)\n",
        "\n",
        "    return TensorDict(\n",
        "        dict(\n",
        "            locs=init_locs,\n",
        "            first_node=current_node,\n",
        "            current_node=current_node,\n",
        "            i=i,\n",
        "            action_mask=available,\n",
        "            reward=torch.zeros((*batch_size, 1), dtype=torch.float32),\n",
        "        ),\n",
        "        batch_size=batch_size\n",
        "    )"
      ],
      "metadata": {
        "id": "gLRqYDOFNXHe"
      },
      "execution_count": 3,
      "outputs": []
    },
    {
      "cell_type": "markdown",
      "source": [
        "### Step\n",
        "Environment `_step`: this defines the state update of the TSP problem gived a TensorDict (td in the code) of the current state and the action to take:"
      ],
      "metadata": {
        "id": "qJjfAc3iTnE2"
      }
    },
    {
      "cell_type": "code",
      "source": [
        "def _step(self, td: TensorDict) -> TensorDict:\n",
        "    current_node = td[\"action\"]\n",
        "    first_node = current_node if td[\"i\"].all() == 0 else td[\"first_node\"]\n",
        "\n",
        "    # Set not visited to 0 (i.e., we visited the node)\n",
        "    # Note: we may also use a separate function for obtaining the mask for more flexibility\n",
        "    available = td[\"action_mask\"].scatter(\n",
        "        -1, current_node.unsqueeze(-1).expand_as(td[\"action_mask\"]), 0\n",
        "    )\n",
        "\n",
        "    # We are done there are no unvisited locations\n",
        "    done = torch.sum(available, dim=-1) == 0\n",
        "\n",
        "    # The reward is calculated outside via get_reward for efficiency, so we set it to 0 here\n",
        "    reward = torch.zeros_like(done)\n",
        "\n",
        "    td.update(\n",
        "        {\n",
        "            \"first_node\": first_node,\n",
        "            \"current_node\": current_node,\n",
        "            \"i\": td[\"i\"] + 1,\n",
        "            \"action_mask\": available,\n",
        "            \"reward\": reward,\n",
        "            \"done\": done,\n",
        "        },\n",
        "    )\n",
        "    return td"
      ],
      "metadata": {
        "id": "TUIttf8SWsIX"
      },
      "execution_count": 4,
      "outputs": []
    },
    {
      "cell_type": "markdown",
      "source": [
        "### [Optional] Separate Action Mask Function\n",
        "The `get_action_mask` function simply returns a mask of the valid actions for the current updated state. This can be used in `_step` and `_reset` for larger environments with several constraints and may be useful for modularity"
      ],
      "metadata": {
        "id": "3ymeiPVoWx8z"
      }
    },
    {
      "cell_type": "code",
      "source": [
        "def get_action_mask(self, td: TensorDict) -> TensorDict:\n",
        "    # Here: your logic\n",
        "    return td[\"action_mask\"]"
      ],
      "metadata": {
        "id": "wgGBwsh7W031"
      },
      "execution_count": 6,
      "outputs": []
    },
    {
      "cell_type": "markdown",
      "source": [
        "### [Optional] Check Solution Validity\n",
        "Another optional utility, this checks whether the solution is feasible and can help identify bugs"
      ],
      "metadata": {
        "id": "fDdHTDU9W1-S"
      }
    },
    {
      "cell_type": "code",
      "source": [
        "def check_solution_validity(self, td: TensorDict, actions: torch.Tensor):\n",
        "    \"\"\"Check that solution is valid: nodes are visited exactly once\"\"\"\n",
        "    assert (\n",
        "        torch.arange(actions.size(1), out=actions.data.new())\n",
        "        .view(1, -1)\n",
        "        .expand_as(actions)\n",
        "        == actions.data.sort(1)[0]\n",
        "    ).all(), \"Invalid tour\""
      ],
      "metadata": {
        "id": "qkjPF2VqXD0S"
      },
      "execution_count": 7,
      "outputs": []
    },
    {
      "cell_type": "markdown",
      "source": [
        "### Reward function\n",
        "The `_get_reward` function is used to evaluate the reward given the solution (actions)."
      ],
      "metadata": {
        "id": "AYOahztBXJ6k"
      }
    },
    {
      "cell_type": "code",
      "source": [
        "def _get_reward(self, td, actions) -> TensorDict:\n",
        "    # Sanity check if enabled\n",
        "    if self.check_solution:\n",
        "        self.check_solution_validity(td, actions)\n",
        "\n",
        "    # Gather locations in order of tour and return distance between them (i.e., -reward)\n",
        "    locs_ordered = gather_by_index(td[\"locs\"], actions)\n",
        "    return -get_tour_length(locs_ordered)"
      ],
      "metadata": {
        "id": "ZG1ZfiOwXL3i"
      },
      "execution_count": 8,
      "outputs": []
    },
    {
      "cell_type": "markdown",
      "source": [
        "### Environment Action Specs\n",
        "This defines the input and output domains of the environment - similar to Gym's `spaces`. This is not strictly necessary, but it is useful to have a clear definition of the environment's action and observation spaces and if we want to sample actions using TorchRL's utils\n",
        "\n",
        "> Note: this is actually not necessary, but it is useful to have a clear definition of the environment's action and observation spaces and if we want to sample actions using TorchRL's utils"
      ],
      "metadata": {
        "id": "IZyZAdtzXS8u"
      }
    },
    {
      "cell_type": "code",
      "source": [
        "def _make_spec(self, generator):\n",
        "    \"\"\"Make the observation and action specs from the parameters\"\"\"\n",
        "    self.observation_spec = CompositeSpec(\n",
        "        locs=BoundedTensorSpec(\n",
        "            low=self.generator.min_loc,\n",
        "            high=self.generator.max_loc,\n",
        "            shape=(self.generator.num_loc, 2),\n",
        "            dtype=torch.float32,\n",
        "        ),\n",
        "        first_node=UnboundedDiscreteTensorSpec(\n",
        "            shape=(1),\n",
        "            dtype=torch.int64,\n",
        "        ),\n",
        "        current_node=UnboundedDiscreteTensorSpec(\n",
        "            shape=(1),\n",
        "            dtype=torch.int64,\n",
        "        ),\n",
        "        i=UnboundedDiscreteTensorSpec(\n",
        "            shape=(1),\n",
        "            dtype=torch.int64,\n",
        "        ),\n",
        "        action_mask=UnboundedDiscreteTensorSpec(\n",
        "            shape=(self.generator.num_loc),\n",
        "            dtype=torch.bool,\n",
        "        ),\n",
        "        shape=(),\n",
        "    )\n",
        "    self.action_spec = BoundedTensorSpec(\n",
        "        shape=(1,),\n",
        "        dtype=torch.int64,\n",
        "        low=0,\n",
        "        high=self.generator.num_loc,\n",
        "    )\n",
        "    self.reward_spec = UnboundedContinuousTensorSpec(shape=(1,))\n",
        "    self.done_spec = UnboundedDiscreteTensorSpec(shape=(1,), dtype=torch.bool)"
      ],
      "metadata": {
        "id": "8x5s8u9rXcro"
      },
      "execution_count": 9,
      "outputs": []
    },
    {
      "cell_type": "markdown",
      "source": [
        "###  Data generator\n",
        "The generator allows to generate random instances of the problem. Note that this is a simplified example: this can include additional distributions via the `rl4co.envs.common.utils.get_sampler` method!"
      ],
      "metadata": {
        "id": "5dz9Wgb5XqvW"
      }
    },
    {
      "cell_type": "code",
      "source": [
        "class TSPGenerator(Generator):\n",
        "    def __init__(\n",
        "        self,\n",
        "        num_loc: int = 20,\n",
        "        min_loc: float = 0.0,\n",
        "        max_loc: float = 1.0,\n",
        "    ):\n",
        "        self.num_loc = num_loc\n",
        "        self.min_loc = min_loc\n",
        "        self.max_loc = max_loc\n",
        "        self.loc_sampler = torch.distributions.Uniform(\n",
        "            low=min_loc, high=max_loc\n",
        "        )\n",
        "\n",
        "    def _generate(self, batch_size) -> TensorDict:\n",
        "        # Sample locations\n",
        "        locs = self.loc_sampler.sample((*batch_size, self.num_loc, 2))\n",
        "        return TensorDict({\"locs\": locs}, batch_size=batch_size)\n",
        "\n",
        "# Test generator\n",
        "generator = TSPGenerator(num_loc=20)\n",
        "locs = generator(32)\n",
        "print(locs[\"locs\"].shape)"
      ],
      "metadata": {
        "colab": {
          "base_uri": "https://localhost:8080/"
        },
        "id": "Ke_xF1x0Xv5Y",
        "outputId": "e39c8803-db7e-4a2f-8e94-7ad7356696b6"
      },
      "execution_count": 10,
      "outputs": [
        {
          "output_type": "stream",
          "name": "stdout",
          "text": [
            "torch.Size([32, 20, 2])\n"
          ]
        }
      ]
    },
    {
      "cell_type": "markdown",
      "source": [
        "### Render function\n",
        "The `render` function is optional, but can be useful for quickly visualizing the results of your algorithm!"
      ],
      "metadata": {
        "id": "0Q5IVT0tXxY6"
      }
    },
    {
      "cell_type": "code",
      "source": [
        "def render(self, td, actions=None, ax=None):\n",
        "    import matplotlib.pyplot as plt\n",
        "    import numpy as np\n",
        "\n",
        "    if ax is None:\n",
        "        # Create a plot of the nodes\n",
        "        _, ax = plt.subplots()\n",
        "\n",
        "    td = td.detach().cpu()\n",
        "\n",
        "    if actions is None:\n",
        "        actions = td.get(\"action\", None)\n",
        "    # if batch_size greater than 0 , we need to select the first batch element\n",
        "    if td.batch_size != torch.Size([]):\n",
        "        td = td[0]\n",
        "        actions = actions[0]\n",
        "\n",
        "    locs = td[\"locs\"]\n",
        "\n",
        "    # gather locs in order of action if available\n",
        "    if actions is None:\n",
        "        print(\"No action in TensorDict, rendering unsorted locs\")\n",
        "    else:\n",
        "        actions = actions.detach().cpu()\n",
        "        locs = gather_by_index(locs, actions, dim=0)\n",
        "\n",
        "    # Cat the first node to the end to complete the tour\n",
        "    locs = torch.cat((locs, locs[0:1]))\n",
        "    x, y = locs[:, 0], locs[:, 1]\n",
        "\n",
        "    # Plot the visited nodes\n",
        "    ax.scatter(x, y, color=\"tab:blue\")\n",
        "\n",
        "    # Add arrows between visited nodes as a quiver plot\n",
        "    dx, dy = np.diff(x), np.diff(y)\n",
        "    ax.quiver(\n",
        "        x[:-1], y[:-1], dx, dy, scale_units=\"xy\", angles=\"xy\", scale=1, color=\"k\"\n",
        "    )\n",
        "\n",
        "    # Setup limits and show\n",
        "    ax.set_xlim(-0.05, 1.05)\n",
        "    ax.set_ylim(-0.05, 1.05)"
      ],
      "metadata": {
        "id": "kHg4dYG8X1pk"
      },
      "execution_count": 11,
      "outputs": []
    },
    {
      "cell_type": "markdown",
      "source": [
        "### Putting everything together"
      ],
      "metadata": {
        "id": "fpQ5oXEIX3mV"
      }
    },
    {
      "cell_type": "code",
      "source": [
        "class TSPEnv(RL4COEnvBase):\n",
        "    \"\"\"Traveling Salesman Problem (TSP) environment\"\"\"\n",
        "\n",
        "    name = \"tsp\"\n",
        "\n",
        "    def __init__(\n",
        "        self,\n",
        "        generator = TSPGenerator,\n",
        "        generator_params = {},\n",
        "        **kwargs,\n",
        "    ):\n",
        "        super().__init__(**kwargs)\n",
        "        self.generator = generator(**generator_params)\n",
        "        self._make_spec(self.generator)\n",
        "\n",
        "    _reset = _reset\n",
        "    _step = _step\n",
        "    _get_reward = _get_reward\n",
        "    check_solution_validity = check_solution_validity\n",
        "    get_action_mask = get_action_mask\n",
        "    _make_spec = _make_spec\n",
        "    render = render"
      ],
      "metadata": {
        "id": "s52jZyDWX5rM"
      },
      "execution_count": 12,
      "outputs": []
    },
    {
      "cell_type": "code",
      "source": [
        "batch_size = 2\n",
        "\n",
        "env = TSPEnv(generator_params=dict(num_loc=20))\n",
        "reward, td, actions = rollout(env, env.reset(batch_size=[batch_size]), random_policy)\n",
        "env.render(td, actions)"
      ],
      "metadata": {
        "colab": {
          "base_uri": "https://localhost:8080/",
          "height": 430
        },
        "id": "Z8YLVTnsX6xl",
        "outputId": "2043249a-3537-4dd3-8662-1350e45e174e"
      },
      "execution_count": 13,
      "outputs": [
        {
          "output_type": "display_data",
          "data": {
            "text/plain": [
              "<Figure size 640x480 with 1 Axes>"
            ],
            "image/png": "[encoded data removed]"
          },
          "metadata": {}
        }
      ]
    },
    {
      "cell_type": "markdown",
      "source": [
        "## Modeling\n",
        "Now we need to model the problem by transforming input information into the latent space to be processed. Here we focus on `AttentionModel`-based embeddings with an encoder-decoder structure. In RL4CO, we divide embeddings in 3 parts:\n",
        "\n",
        "* `init_embedding`: (encoder) embed initial states of the problem\n",
        "* `context_embedding`: (decoder) embed context information of the problem for the current partial solution to modify the query\n",
        "* `dynamic_embedding`: (decoder) embed dynamic information of the problem for the current partial solution to modify the query, key, and value (i.e. if other nodes also change state)"
      ],
      "metadata": {
        "id": "2iQUpRilX71c"
      }
    },
    {
      "cell_type": "markdown",
      "source": [
        "### Init Embedding\n",
        "Embed initial problem into latent space. In our case, we can project the coordinates of the cities into a latent space."
      ],
      "metadata": {
        "id": "Inpp6oIzYMcu"
      }
    },
    {
      "cell_type": "code",
      "source": [
        "class TSPInitEmbedding(nn.Module):\n",
        "    \"\"\"Initial embedding for the Traveling Salesman Problems (TSP).\n",
        "    Embed the following node features to the embedding space:\n",
        "        - locs: x, y coordinates of the cities\n",
        "    \"\"\"\n",
        "\n",
        "    def __init__(self, embed_dim, linear_bias=True):\n",
        "        super(TSPInitEmbedding, self).__init__()\n",
        "        node_dim = 2  # x, y\n",
        "        self.init_embed = nn.Linear(node_dim, embed_dim, linear_bias)\n",
        "\n",
        "    def forward(self, td):\n",
        "        out = self.init_embed(td[\"locs\"])\n",
        "        return out"
      ],
      "metadata": {
        "id": "ZC4spTmdYPsQ"
      },
      "execution_count": 14,
      "outputs": []
    },
    {
      "cell_type": "markdown",
      "source": [
        "### Context Embedding\n",
        "Context embedding takes the current context and returns a vector representation of it. In TSP, we can take the embedding of the first node visited (since we need to complete the tour) as well as the embedding of current node visited (in the first step we just have a placeholder since they are the same)."
      ],
      "metadata": {
        "id": "1Iekev6rYSKW"
      }
    },
    {
      "cell_type": "code",
      "source": [
        "class TSPContext(nn.Module):\n",
        "    \"\"\"Context embedding for the Traveling Salesman Problem (TSP).\n",
        "    Project the following to the embedding space:\n",
        "        - first node embedding\n",
        "        - current node embedding\n",
        "    \"\"\"\n",
        "\n",
        "    def __init__(self, embed_dim,  linear_bias=True):\n",
        "        super(TSPContext, self).__init__()\n",
        "        self.W_placeholder = nn.Parameter(\n",
        "            torch.Tensor(2 * embed_dim).uniform_(-1, 1)\n",
        "        )\n",
        "        self.project_context = nn.Linear(\n",
        "            embed_dim*2, embed_dim, bias=linear_bias\n",
        "        )\n",
        "\n",
        "    def forward(self, embeddings, td):\n",
        "        batch_size = embeddings.size(0)\n",
        "        # By default, node_dim = -1 (we only have one node embedding per node)\n",
        "        node_dim = (\n",
        "            (-1,) if td[\"first_node\"].dim() == 1 else (td[\"first_node\"].size(-1), -1)\n",
        "        )\n",
        "        if td[\"i\"][(0,) * td[\"i\"].dim()].item() < 1:  # get first item fast\n",
        "            context_embedding = self.W_placeholder[None, :].expand(\n",
        "                batch_size, self.W_placeholder.size(-1)\n",
        "            )\n",
        "        else:\n",
        "            context_embedding = gather_by_index(\n",
        "                embeddings,\n",
        "                torch.stack([td[\"first_node\"], td[\"current_node\"]], -1).view(\n",
        "                    batch_size, -1\n",
        "                ),\n",
        "            ).view(batch_size, *node_dim)\n",
        "        return self.project_context(context_embedding)\n",
        ""
      ],
      "metadata": {
        "id": "lo-ftytTYUvd"
      },
      "execution_count": 15,
      "outputs": []
    },
    {
      "cell_type": "markdown",
      "source": [
        "### Dynamic Embedding\n",
        "Since the states do not change except for visited nodes, we do not need to modify the keys and values. Therefore, we set this to 0"
      ],
      "metadata": {
        "id": "5JvZp3D_YWJ7"
      }
    },
    {
      "cell_type": "code",
      "source": [
        "class StaticEmbedding(nn.Module):\n",
        "    def __init__(self, *args, **kwargs):\n",
        "        super(StaticEmbedding, self).__init__()\n",
        "\n",
        "    def forward(self, td):\n",
        "        return 0, 0, 0"
      ],
      "metadata": {
        "id": "WUxArkVVYX8u"
      },
      "execution_count": 16,
      "outputs": []
    },
    {
      "cell_type": "markdown",
      "source": [
        "## Training"
      ],
      "metadata": {
        "id": "obleNHAwYZZh"
      }
    },
    {
      "cell_type": "code",
      "source": [
        "# Instantiate our environment\n",
        "env = TSPEnv(generator_params=dict(num_loc=20))\n",
        "\n",
        "# Instantiate policy with the embeddings we created above\n",
        "emb_dim = 128\n",
        "policy = AttentionModelPolicy(env_name=env.name, # this is actually not needed since we are initializing the embeddings!\n",
        "                              embed_dim=emb_dim,\n",
        "                              init_embedding=TSPInitEmbedding(emb_dim),\n",
        "                              context_embedding=TSPContext(emb_dim),\n",
        "                              dynamic_embedding=StaticEmbedding(emb_dim)\n",
        ")\n",
        "\n",
        "\n",
        "# Model: default is AM with REINFORCE and greedy rollout baseline\n",
        "model = AttentionModel(env,\n",
        "                       policy=policy,\n",
        "                       baseline='rollout',\n",
        "                       train_data_size=100_000,\n",
        "                       val_data_size=10_000)"
      ],
      "metadata": {
        "colab": {
          "base_uri": "https://localhost:8080/"
        },
        "id": "uxjXALlhYfW2",
        "outputId": "12fe9e78-559d-479f-9139-6d6ed152c5f9"
      },
      "execution_count": 17,
      "outputs": [
        {
          "output_type": "stream",
          "name": "stderr",
          "text": [
            "/usr/local/lib/python3.10/dist-packages/lightning/pytorch/utilities/parsing.py:208: Attribute 'env' is an instance of `nn.Module` and is already saved during checkpointing. It is recommended to ignore them using `self.save_hyperparameters(ignore=['env'])`.\n",
            "/usr/local/lib/python3.10/dist-packages/lightning/pytorch/utilities/parsing.py:208: Attribute 'policy' is an instance of `nn.Module` and is already saved during checkpointing. It is recommended to ignore them using `self.save_hyperparameters(ignore=['policy'])`.\n"
          ]
        }
      ]
    },
    {
      "cell_type": "markdown",
      "source": [
        "### Rollout untrained model"
      ],
      "metadata": {
        "id": "f8Y2aJbqYgmt"
      }
    },
    {
      "cell_type": "code",
      "source": [
        "# Greedy rollouts over untrained model\n",
        "device = torch.device(\"cuda\" if torch.cuda.is_available() else \"cpu\")\n",
        "td_init = env.reset(batch_size=[3]).to(device)\n",
        "policy = model.policy.to(device)\n",
        "out = policy(td_init.clone(), env, phase=\"test\", decode_type=\"greedy\", return_actions=True)\n",
        "actions_untrained = out['actions'].cpu().detach()\n",
        "rewards_untrained = out['reward'].cpu().detach()\n",
        "\n",
        "for i in range(3):\n",
        "    print(f\"Problem {i+1} | Cost: {-rewards_untrained[i]:.3f}\")\n",
        "    env.render(td_init[i], actions_untrained[i])"
      ],
      "metadata": {
        "colab": {
          "base_uri": "https://localhost:8080/",
          "height": 1000
        },
        "id": "Rs6qfxZ3YiY7",
        "outputId": "4807e3d6-17fa-4b63-8a7d-6c4bd56c9100"
      },
      "execution_count": 18,
      "outputs": [
        {
          "output_type": "stream",
          "name": "stdout",
          "text": [
            "Problem 1 | Cost: 9.402\n",
            "Problem 2 | Cost: 8.641\n",
            "Problem 3 | Cost: 10.510\n"
          ]
        },
        {
          "output_type": "display_data",
          "data": {
            "text/plain": [
              "<Figure size 640x480 with 1 Axes>"
            ],
            "image/png": "[encoded data removed]"
          },
          "metadata": {}
        },
        {
          "output_type": "display_data",
          "data": {
            "text/plain": [
              "<Figure size 640x480 with 1 Axes>"
            ],
            "image/png": "[encoded data removed]"
          },
          "metadata": {}
        },
        {
          "output_type": "display_data",
          "data": {
            "text/plain": [
              "<Figure size 640x480 with 1 Axes>"
            ],
            "image/png": "[encoded data removed]"
          },
          "metadata": {}
        }
      ]
    },
    {
      "cell_type": "markdown",
      "source": [
        "### wandb init\n"
      ],
      "metadata": {
        "id": "9FfbFgGEYs6e"
      }
    },
    {
      "cell_type": "code",
      "source": [
        "import wandb\n",
        "wandb.login(\n",
        "    key=\"376ca21bf22b46505dcf5cb8b44e1595fc05a23f\",\n",
        "    relogin=True,\n",
        "    force=True\n",
        ")"
      ],
      "metadata": {
        "colab": {
          "base_uri": "https://localhost:8080/"
        },
        "id": "IHKT5r4cYxXF",
        "outputId": "dfbb5e06-0de8-457e-e366-6721e1ccfa7a"
      },
      "execution_count": 21,
      "outputs": [
        {
          "output_type": "stream",
          "name": "stderr",
          "text": [
            "\u001b[34m\u001b[1mwandb\u001b[0m: \u001b[33mWARNING\u001b[0m Calling wandb.login() after wandb.init() has no effect.\n"
          ]
        },
        {
          "output_type": "execute_result",
          "data": {
            "text/plain": [
              "True"
            ]
          },
          "metadata": {},
          "execution_count": 21
        }
      ]
    },
    {
      "cell_type": "code",
      "source": [
        "wandb.init(\n",
        "    project=\"rl4co\"\n",
        ")"
      ],
      "metadata": {
        "colab": {
          "base_uri": "https://localhost:8080/",
          "height": 231,
          "referenced_widgets": [
            "96f354c658bf4168a32a30725af99846",
            "b61635a644d44f76a3621cee139f38b8",
            "bcece65f0f954cc799977a6dc92203e3",
            "ae8f157008f941d68e1d72f2a653be18",
            "cc137c7f2b6e4403a7e712faae123a6b",
            "79b8580f061040b9bbfe3c4a9216fd71",
            "5ccf9fa575184024899c75e4390aeaa4",
            "2f809da230584d9d8b4b6853185c9ab6"
          ]
        },
        "id": "7Sw1CKZGZKGt",
        "outputId": "6c42982b-21ee-4300-f966-18b3d66e0073"
      },
      "execution_count": 23,
      "outputs": [
        {
          "output_type": "display_data",
          "data": {
            "text/plain": [
              "<IPython.core.display.HTML object>"
            ],
            "text/html": [
              "Finishing last run (ID:2j2i6vr5) before initializing another..."
            ]
          },
          "metadata": {}
        },
        {
          "output_type": "display_data",
          "data": {
            "text/plain": [
              "VBox(children=(Label(value='0.011 MB of 0.011 MB uploaded\\r'), FloatProgress(value=1.0, max=1.0)))"
            ],
            "application/vnd.jupyter.widget-view+json": {
              "version_major": 2,
              "version_minor": 0,
              "model_id": "96f354c658bf4168a32a30725af99846"
            }
          },
          "metadata": {}
        },
        {
          "output_type": "display_data",
          "data": {
            "text/plain": [
              "<IPython.core.display.HTML object>"
            ],
            "text/html": [
              " View run <strong style=\"color:#cdcd00\">stellar-butterfly-2</strong> at: <a href='https://wandb.ai/OptiMap/rl4co/runs/2j2i6vr5' target=\"_blank\">https://wandb.ai/OptiMap/rl4co/runs/2j2i6vr5</a><br/> View project at: <a href='https://wandb.ai/OptiMap/rl4co' target=\"_blank\">https://wandb.ai/OptiMap/rl4co</a><br/>Synced 5 W&B file(s), 0 media file(s), 0 artifact file(s) and 0 other file(s)"
            ]
          },
          "metadata": {}
        },
        {
          "output_type": "display_data",
          "data": {
            "text/plain": [
              "<IPython.core.display.HTML object>"
            ],
            "text/html": [
              "Find logs at: <code>./wandb/run-20240918_135143-2j2i6vr5/logs</code>"
            ]
          },
          "metadata": {}
        },
        {
          "output_type": "display_data",
          "data": {
            "text/plain": [
              "<IPython.core.display.HTML object>"
            ],
            "text/html": [
              "Successfully finished last run (ID:2j2i6vr5). Initializing new run:<br/>"
            ]
          },
          "metadata": {}
        },
        {
          "output_type": "display_data",
          "data": {
            "text/plain": [
              "<IPython.core.display.HTML object>"
            ],
            "text/html": [
              "Tracking run with wandb version 0.18.1"
            ]
          },
          "metadata": {}
        },
        {
          "output_type": "display_data",
          "data": {
            "text/plain": [
              "<IPython.core.display.HTML object>"
            ],
            "text/html": [
              "Run data is saved locally in <code>/content/wandb/run-20240918_135219-tgol3wf4</code>"
            ]
          },
          "metadata": {}
        },
        {
          "output_type": "display_data",
          "data": {
            "text/plain": [
              "<IPython.core.display.HTML object>"
            ],
            "text/html": [
              "Syncing run <strong><a href='https://wandb.ai/OptiMap/rl4co/runs/tgol3wf4' target=\"_blank\">fine-wood-2</a></strong> to <a href='https://wandb.ai/OptiMap/rl4co' target=\"_blank\">Weights & Biases</a> (<a href='https://wandb.me/run' target=\"_blank\">docs</a>)<br/>"
            ]
          },
          "metadata": {}
        },
        {
          "output_type": "display_data",
          "data": {
            "text/plain": [
              "<IPython.core.display.HTML object>"
            ],
            "text/html": [
              " View project at <a href='https://wandb.ai/OptiMap/rl4co' target=\"_blank\">https://wandb.ai/OptiMap/rl4co</a>"
            ]
          },
          "metadata": {}
        },
        {
          "output_type": "display_data",
          "data": {
            "text/plain": [
              "<IPython.core.display.HTML object>"
            ],
            "text/html": [
              " View run at <a href='https://wandb.ai/OptiMap/rl4co/runs/tgol3wf4' target=\"_blank\">https://wandb.ai/OptiMap/rl4co/runs/tgol3wf4</a>"
            ]
          },
          "metadata": {}
        },
        {
          "output_type": "execute_result",
          "data": {
            "text/html": [
              "<button onClick=\"this.nextSibling.style.display='block';this.style.display='none';\">Display W&B run</button><iframe src='https://wandb.ai/OptiMap/rl4co/runs/tgol3wf4?jupyter=true' style='border:none;width:100%;height:420px;display:none;'></iframe>"
            ],
            "text/plain": [
              "<wandb.sdk.wandb_run.Run at 0x7c098efa98d0>"
            ]
          },
          "metadata": {},
          "execution_count": 23
        }
      ]
    },
    {
      "cell_type": "markdown",
      "source": [
        "### Training loop"
      ],
      "metadata": {
        "id": "L63y1vSQYjVB"
      }
    },
    {
      "cell_type": "code",
      "source": [
        "# We use our own wrapper around Lightning's `Trainer` to make it easier to use\n",
        "trainer = RL4COTrainer(max_epochs=3, devices=1)\n",
        "trainer.fit(model)"
      ],
      "metadata": {
        "colab": {
          "base_uri": "https://localhost:8080/",
          "height": 783,
          "referenced_widgets": [
            "c92a20e538a94d9f9a5491f785ac07b1",
            "a34d06427fc149bf92e0d1db046569ec",
            "187a18fc086846beaa45869d6bfc1c90",
            "b888029a361945b1bb2d21223f95f5bb",
            "a3efca1906534ee495f86702966f04f5",
            "09b4c30a0f3b4ea0b68ab212c169bcf7",
            "2894bca28544457c98ec088310102b6e",
            "f31c17dfb07441cd93546ebaef1dad76",
            "a82490b5a477435b88885c6080d03e0f",
            "324ca52556ff4fe282b762129577dd12",
            "694703f85380447cbabb072ace1f01b2",
            "ad902e0fd06d4543a329c0f71f368b62",
            "4e42fb61668c4ab7b4aeb9a8aeb3ff5f",
            "2557c3ccd74c40a89451d7afd802c0af",
            "4b6bd91ee915411bbe8b0fd158742032",
            "cc4ba60b91c54730a0742656b6d5b0bf",
            "dbac4283703a456d97240b840f450853",
            "bfc02e53497a46309cf12956398b50d2",
            "39791adee56e48d79bfff54e9a3decf5",
            "9d1ab06b97614641b1c64391644701c8",
            "97d14f3d8f8641d9a76b88b78c1ef80a",
            "438e1e6dbd0542a6a9568c4b0ac24b9f",
            "8ff7e907848c4bebb0dabef0b6fc3e6c",
            "d1114ff019344952b0db47cf273dcdd0",
            "82cff043b0064cd2ae95611ee30e80c0",
            "499c33bd2bfa4279a956575aec906a8e",
            "3c9ef981cbcf414d984a9041c2374c95",
            "0775e94623ac4b908e43630e46cda616",
            "d2bad41b627b40e79cca13fd19201e2e",
            "ee931826e9224181ae9a7f997b5de601",
            "7b39884a80d94101a165111beaefbb6f",
            "a42d302f60734516adbbd6fdaee2b5db",
            "30a745843ff24acc934904f1ab7b4edd",
            "447033655f074cfcbfe5c45b20831e10",
            "4d1ff115f2604de789e4e5be3de85a77",
            "8b293d7a0f404e17a19b3a7d2563cee5",
            "250e0a0726764b70af88fdb6a0ed9029",
            "4338ab8ed315426aba4ad7b4311b231d",
            "0dc63ba8a2114538963ec6871bf72d1b",
            "2899cb4d03ca47f2b216a904c4d1dbfc",
            "ca1435491b904321b0217eccb18d69d2",
            "4d66009dab264dd6a599c5e63879f5bc",
            "b26b9396b6684f1c9a17ad9cd21d2abf",
            "2502ca3182fe4e73aebdaa74b7d0233a",
            "a750243a33bd40c09ecc7e726922d57a",
            "2a15c9ee7b974ef8ac334b7db2107c9e",
            "55c6eb81ea2e46efb180fd645c3c8bc5",
            "3128fb345c7d48c7a1fafb08fcc12c8b",
            "c50be1b0c453450fadeb4f227d1d41cd",
            "f7efb87d2f5044f5a24fe476e1939c85",
            "f6a8b1a9c9c24bfe9e777486ee3729f5",
            "601a51e29bc84965a235012c6aeee1f6",
            "e1c95f30108f4558b6f092defb73e09e",
            "722f2a07581f4c20b278a0339bca8e0d",
            "295219b7cfea4e019d0d8519fffbeeb5"
          ]
        },
        "id": "8UOyS_AwYmO3",
        "outputId": "2fbf2008-8b51-4549-980a-3977a86d0010"
      },
      "execution_count": 24,
      "outputs": [
        {
          "output_type": "stream",
          "name": "stderr",
          "text": [
            "INFO: Using 16bit Automatic Mixed Precision (AMP)\n",
            "INFO:lightning.pytorch.utilities.rank_zero:Using 16bit Automatic Mixed Precision (AMP)\n",
            "INFO: GPU available: True (cuda), used: True\n",
            "INFO:lightning.pytorch.utilities.rank_zero:GPU available: True (cuda), used: True\n",
            "INFO: TPU available: False, using: 0 TPU cores\n",
            "INFO:lightning.pytorch.utilities.rank_zero:TPU available: False, using: 0 TPU cores\n",
            "INFO: HPU available: False, using: 0 HPUs\n",
            "INFO:lightning.pytorch.utilities.rank_zero:HPU available: False, using: 0 HPUs\n",
            "WARNING:rl4co.envs.common.base:val_file not set. Generating dataset instead\n",
            "WARNING:rl4co.envs.common.base:test_file not set. Generating dataset instead\n",
            "INFO: LOCAL_RANK: 0 - CUDA_VISIBLE_DEVICES: [0]\n",
            "INFO:lightning.pytorch.accelerators.cuda:LOCAL_RANK: 0 - CUDA_VISIBLE_DEVICES: [0]\n",
            "INFO: \n",
            "  | Name     | Type                 | Params | Mode \n",
            "----------------------------------------------------------\n",
            "0 | env      | TSPEnv               | 0      | train\n",
            "1 | policy   | AttentionModelPolicy | 710 K  | train\n",
            "2 | baseline | WarmupBaseline       | 710 K  | train\n",
            "----------------------------------------------------------\n",
            "1.4 M     Trainable params\n",
            "0         Non-trainable params\n",
            "1.4 M     Total params\n",
            "5.682     Total estimated model params size (MB)\n",
            "72        Modules in train mode\n",
            "68        Modules in eval mode\n",
            "INFO:lightning.pytorch.callbacks.model_summary:\n",
            "  | Name     | Type                 | Params | Mode \n",
            "----------------------------------------------------------\n",
            "0 | env      | TSPEnv               | 0      | train\n",
            "1 | policy   | AttentionModelPolicy | 710 K  | train\n",
            "2 | baseline | WarmupBaseline       | 710 K  | train\n",
            "----------------------------------------------------------\n",
            "1.4 M     Trainable params\n",
            "0         Non-trainable params\n",
            "1.4 M     Total params\n",
            "5.682     Total estimated model params size (MB)\n",
            "72        Modules in train mode\n",
            "68        Modules in eval mode\n"
          ]
        },
        {
          "output_type": "display_data",
          "data": {
            "text/plain": [
              "Sanity Checking: |          | 0/? [00:00<?, ?it/s]"
            ],
            "application/vnd.jupyter.widget-view+json": {
              "version_major": 2,
              "version_minor": 0,
              "model_id": "c92a20e538a94d9f9a5491f785ac07b1"
            }
          },
          "metadata": {}
        },
        {
          "output_type": "display_data",
          "data": {
            "text/plain": [
              "Training: |          | 0/? [00:00<?, ?it/s]"
            ],
            "application/vnd.jupyter.widget-view+json": {
              "version_major": 2,
              "version_minor": 0,
              "model_id": "ad902e0fd06d4543a329c0f71f368b62"
            }
          },
          "metadata": {}
        },
        {
          "output_type": "display_data",
          "data": {
            "text/plain": [
              "Validation: |          | 0/? [00:00<?, ?it/s]"
            ],
            "application/vnd.jupyter.widget-view+json": {
              "version_major": 2,
              "version_minor": 0,
              "model_id": "8ff7e907848c4bebb0dabef0b6fc3e6c"
            }
          },
          "metadata": {}
        },
        {
          "output_type": "display_data",
          "data": {
            "text/plain": [
              "Validation: |          | 0/? [00:00<?, ?it/s]"
            ],
            "application/vnd.jupyter.widget-view+json": {
              "version_major": 2,
              "version_minor": 0,
              "model_id": "447033655f074cfcbfe5c45b20831e10"
            }
          },
          "metadata": {}
        },
        {
          "output_type": "display_data",
          "data": {
            "text/plain": [
              "Validation: |          | 0/? [00:00<?, ?it/s]"
            ],
            "application/vnd.jupyter.widget-view+json": {
              "version_major": 2,
              "version_minor": 0,
              "model_id": "a750243a33bd40c09ecc7e726922d57a"
            }
          },
          "metadata": {}
        },
        {
          "output_type": "stream",
          "name": "stderr",
          "text": [
            "INFO: `Trainer.fit` stopped: `max_epochs=3` reached.\n",
            "INFO:lightning.pytorch.utilities.rank_zero:`Trainer.fit` stopped: `max_epochs=3` reached.\n"
          ]
        }
      ]
    },
    {
      "cell_type": "markdown",
      "source": [
        "## Evaluation"
      ],
      "metadata": {
        "id": "LnzvuHwNZ-11"
      }
    },
    {
      "cell_type": "code",
      "source": [
        "# Greedy rollouts over trained policy (same states as previous plot)\n",
        "policy = model.policy.to(device)\n",
        "out = policy(td_init.clone(), env, phase=\"test\", decode_type=\"greedy\", return_actions=True)\n",
        "actions_trained = out['actions'].cpu().detach()\n",
        "\n",
        "# Plotting\n",
        "import matplotlib.pyplot as plt\n",
        "for i, td in enumerate(td_init):\n",
        "    fig, axs = plt.subplots(1,2, figsize=(11,5))\n",
        "    env.render(td, actions_untrained[i], ax=axs[0])\n",
        "    env.render(td, actions_trained[i], ax=axs[1])\n",
        "    axs[0].set_title(f\"Untrained | Cost = {-rewards_untrained[i].item():.3f}\")\n",
        "    axs[1].set_title(r\"Trained $\\pi_\\theta$\" + f\"| Cost = {-out['reward'][i].item():.3f}\")"
      ],
      "metadata": {
        "colab": {
          "base_uri": "https://localhost:8080/",
          "height": 1000
        },
        "id": "rLf5dcizaDlh",
        "outputId": "0b48381e-b292-411a-8614-1a3b4c50268b"
      },
      "execution_count": 25,
      "outputs": [
        {
          "output_type": "display_data",
          "data": {
            "text/plain": [
              "<Figure size 1100x500 with 2 Axes>"
            ],
            "image/png": "[encoded data removed]"
          },
          "metadata": {}
        },
        {
          "output_type": "display_data",
          "data": {
            "text/plain": [
              "<Figure size 1100x500 with 2 Axes>"
            ],
            "image/png": "[encoded data removed]"
          },
          "metadata": {}
        },
        {
          "output_type": "display_data",
          "data": {
            "text/plain": [
              "<Figure size 1100x500 with 2 Axes>"
            ],
            "image/png": "[encoded data removed]"
          },
          "metadata": {}
        }
      ]
    },
    {
      "cell_type": "code",
      "source": [],
      "metadata": {
        "id": "etzyxkIUaErj"
      },
      "execution_count": null,
      "outputs": []
    }
  ]
}